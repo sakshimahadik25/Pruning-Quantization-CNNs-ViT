{
 "cells": [
  {
   "cell_type": "markdown",
   "metadata": {},
   "source": [
    "## Pruning v/s Quantization in CNNs v/s ViT\n",
    "\n",
    "Sakshi Mahadik\n",
    "\n",
    "Jaiwin Shah\n",
    "\n",
    "Surya Sukumar"
   ]
  },
  {
   "cell_type": "markdown",
   "metadata": {},
   "source": [
    "### Import libraries + Load dataset"
   ]
  },
  {
   "cell_type": "code",
   "execution_count": 1,
   "metadata": {},
   "outputs": [
    {
     "name": "stderr",
     "output_type": "stream",
     "text": [
      "c:\\Users\\oargell.lab\\AppData\\Local\\Programs\\Python\\Python312\\Lib\\site-packages\\tqdm\\auto.py:21: TqdmWarning: IProgress not found. Please update jupyter and ipywidgets. See https://ipywidgets.readthedocs.io/en/stable/user_install.html\n",
      "  from .autonotebook import tqdm as notebook_tqdm\n"
     ]
    },
    {
     "name": "stdout",
     "output_type": "stream",
     "text": [
      "cuda\n"
     ]
    }
   ],
   "source": [
    "import torch\n",
    "import torch.nn as nn\n",
    "import torch.nn.utils.prune as prune\n",
    "import torch.quantization\n",
    "from torchvision import models, transforms\n",
    "from torchvision.datasets import ImageFolder\n",
    "from torch.utils.data import DataLoader, random_split\n",
    "import timm\n",
    "import copy\n",
    "import os\n",
    "import tempfile\n",
    "from torch.ao.quantization import get_default_qconfig, prepare, convert\n",
    "from torch.ao.quantization.observer import MinMaxObserver, PerChannelMinMaxObserver\n",
    "from torch.ao.quantization.qconfig import QConfig\n",
    "\n",
    "device = torch.device(\"cuda\" if torch.cuda.is_available() else \"cpu\")\n",
    "print(device)"
   ]
  },
  {
   "cell_type": "code",
   "execution_count": 2,
   "metadata": {},
   "outputs": [
    {
     "name": "stdout",
     "output_type": "stream",
     "text": [
      "Downloading from https://www.kaggle.com/api/v1/datasets/download/msambare/fer2013?dataset_version_number=1...\n"
     ]
    },
    {
     "name": "stderr",
     "output_type": "stream",
     "text": [
      "100%|██████████| 60.3M/60.3M [00:01<00:00, 57.0MB/s]"
     ]
    },
    {
     "name": "stdout",
     "output_type": "stream",
     "text": [
      "Extracting files...\n"
     ]
    },
    {
     "name": "stderr",
     "output_type": "stream",
     "text": [
      "\n"
     ]
    },
    {
     "name": "stdout",
     "output_type": "stream",
     "text": [
      "Path to dataset files: C:\\Users\\oargell.lab\\.cache\\kagglehub\\datasets\\msambare\\fer2013\\versions\\1\n"
     ]
    }
   ],
   "source": [
    "import kagglehub\n",
    "\n",
    "# Download latest version\n",
    "path = kagglehub.dataset_download(\"msambare/fer2013\")\n",
    "\n",
    "print(\"Path to dataset files:\", path)"
   ]
  },
  {
   "cell_type": "code",
   "execution_count": 4,
   "metadata": {},
   "outputs": [
    {
     "name": "stdout",
     "output_type": "stream",
     "text": [
      "Train samples: 22968\n",
      "Validation samples: 5741\n",
      "Test samples: 7178\n"
     ]
    }
   ],
   "source": [
    "# Dataset loading\n",
    "transform = transforms.Compose([\n",
    "    transforms.Resize((224, 224)),\n",
    "    transforms.Grayscale(num_output_channels=3),\n",
    "    transforms.ToTensor(),\n",
    "    transforms.Normalize([0.5], [0.5])\n",
    "])\n",
    "\n",
    "dataset = ImageFolder('fer2013/versions/1/train', transform=transform)\n",
    "val_size = int(0.2 * len(dataset))\n",
    "train_size = len(dataset) - val_size\n",
    "train_dataset, val_dataset = random_split(dataset, [train_size, val_size])\n",
    "test_dataset = ImageFolder('fer2013/versions/1/test', transform=transform)\n",
    "\n",
    "train_loader = DataLoader(train_dataset, batch_size=64, shuffle=True)\n",
    "val_loader = DataLoader(val_dataset, batch_size=64, shuffle=False)\n",
    "test_loader = DataLoader(test_dataset, batch_size=64, shuffle=False)\n",
    "\n",
    "# Check distribution\n",
    "print(f\"Train samples: {len(train_dataset)}\")\n",
    "print(f\"Validation samples: {len(val_dataset)}\")\n",
    "print(f\"Test samples: {len(test_dataset)}\")"
   ]
  },
  {
   "cell_type": "markdown",
   "metadata": {},
   "source": [
    "### Load VIT model"
   ]
  },
  {
   "cell_type": "code",
   "execution_count": 5,
   "metadata": {},
   "outputs": [
    {
     "name": "stderr",
     "output_type": "stream",
     "text": [
      "C:\\Users\\oargell.lab\\AppData\\Local\\Temp\\ipykernel_42872\\1957360153.py:2: FutureWarning: You are using `torch.load` with `weights_only=False` (the current default value), which uses the default pickle module implicitly. It is possible to construct malicious pickle data which will execute arbitrary code during unpickling (See https://github.com/pytorch/pytorch/blob/main/SECURITY.md#untrusted-models for more details). In a future release, the default value for `weights_only` will be flipped to `True`. This limits the functions that could be executed during unpickling. Arbitrary objects will no longer be allowed to be loaded via this mode unless they are explicitly allowlisted by the user via `torch.serialization.add_safe_globals`. We recommend you start setting `weights_only=True` for any use case where you don't have full control of the loaded file. Please open an issue on GitHub for any issues related to this experimental feature.\n",
      "  vit = torch.load(\"vit_models/vit.pt\")\n"
     ]
    },
    {
     "data": {
      "text/plain": [
       "VisionTransformer(\n",
       "  (patch_embed): PatchEmbed(\n",
       "    (proj): Conv2d(3, 768, kernel_size=(16, 16), stride=(16, 16))\n",
       "    (norm): Identity()\n",
       "  )\n",
       "  (pos_drop): Dropout(p=0.0, inplace=False)\n",
       "  (patch_drop): Identity()\n",
       "  (norm_pre): Identity()\n",
       "  (blocks): Sequential(\n",
       "    (0): Block(\n",
       "      (norm1): LayerNorm((768,), eps=1e-06, elementwise_affine=True)\n",
       "      (attn): Attention(\n",
       "        (qkv): Linear(in_features=768, out_features=2304, bias=True)\n",
       "        (q_norm): Identity()\n",
       "        (k_norm): Identity()\n",
       "        (attn_drop): Dropout(p=0.0, inplace=False)\n",
       "        (proj): Linear(in_features=768, out_features=768, bias=True)\n",
       "        (proj_drop): Dropout(p=0.0, inplace=False)\n",
       "      )\n",
       "      (ls1): Identity()\n",
       "      (drop_path1): Identity()\n",
       "      (norm2): LayerNorm((768,), eps=1e-06, elementwise_affine=True)\n",
       "      (mlp): Mlp(\n",
       "        (fc1): Linear(in_features=768, out_features=3072, bias=True)\n",
       "        (act): GELU(approximate='none')\n",
       "        (drop1): Dropout(p=0.0, inplace=False)\n",
       "        (norm): Identity()\n",
       "        (fc2): Linear(in_features=3072, out_features=768, bias=True)\n",
       "        (drop2): Dropout(p=0.0, inplace=False)\n",
       "      )\n",
       "      (ls2): Identity()\n",
       "      (drop_path2): Identity()\n",
       "    )\n",
       "    (1): Block(\n",
       "      (norm1): LayerNorm((768,), eps=1e-06, elementwise_affine=True)\n",
       "      (attn): Attention(\n",
       "        (qkv): Linear(in_features=768, out_features=2304, bias=True)\n",
       "        (q_norm): Identity()\n",
       "        (k_norm): Identity()\n",
       "        (attn_drop): Dropout(p=0.0, inplace=False)\n",
       "        (proj): Linear(in_features=768, out_features=768, bias=True)\n",
       "        (proj_drop): Dropout(p=0.0, inplace=False)\n",
       "      )\n",
       "      (ls1): Identity()\n",
       "      (drop_path1): Identity()\n",
       "      (norm2): LayerNorm((768,), eps=1e-06, elementwise_affine=True)\n",
       "      (mlp): Mlp(\n",
       "        (fc1): Linear(in_features=768, out_features=3072, bias=True)\n",
       "        (act): GELU(approximate='none')\n",
       "        (drop1): Dropout(p=0.0, inplace=False)\n",
       "        (norm): Identity()\n",
       "        (fc2): Linear(in_features=3072, out_features=768, bias=True)\n",
       "        (drop2): Dropout(p=0.0, inplace=False)\n",
       "      )\n",
       "      (ls2): Identity()\n",
       "      (drop_path2): Identity()\n",
       "    )\n",
       "    (2): Block(\n",
       "      (norm1): LayerNorm((768,), eps=1e-06, elementwise_affine=True)\n",
       "      (attn): Attention(\n",
       "        (qkv): Linear(in_features=768, out_features=2304, bias=True)\n",
       "        (q_norm): Identity()\n",
       "        (k_norm): Identity()\n",
       "        (attn_drop): Dropout(p=0.0, inplace=False)\n",
       "        (proj): Linear(in_features=768, out_features=768, bias=True)\n",
       "        (proj_drop): Dropout(p=0.0, inplace=False)\n",
       "      )\n",
       "      (ls1): Identity()\n",
       "      (drop_path1): Identity()\n",
       "      (norm2): LayerNorm((768,), eps=1e-06, elementwise_affine=True)\n",
       "      (mlp): Mlp(\n",
       "        (fc1): Linear(in_features=768, out_features=3072, bias=True)\n",
       "        (act): GELU(approximate='none')\n",
       "        (drop1): Dropout(p=0.0, inplace=False)\n",
       "        (norm): Identity()\n",
       "        (fc2): Linear(in_features=3072, out_features=768, bias=True)\n",
       "        (drop2): Dropout(p=0.0, inplace=False)\n",
       "      )\n",
       "      (ls2): Identity()\n",
       "      (drop_path2): Identity()\n",
       "    )\n",
       "    (3): Block(\n",
       "      (norm1): LayerNorm((768,), eps=1e-06, elementwise_affine=True)\n",
       "      (attn): Attention(\n",
       "        (qkv): Linear(in_features=768, out_features=2304, bias=True)\n",
       "        (q_norm): Identity()\n",
       "        (k_norm): Identity()\n",
       "        (attn_drop): Dropout(p=0.0, inplace=False)\n",
       "        (proj): Linear(in_features=768, out_features=768, bias=True)\n",
       "        (proj_drop): Dropout(p=0.0, inplace=False)\n",
       "      )\n",
       "      (ls1): Identity()\n",
       "      (drop_path1): Identity()\n",
       "      (norm2): LayerNorm((768,), eps=1e-06, elementwise_affine=True)\n",
       "      (mlp): Mlp(\n",
       "        (fc1): Linear(in_features=768, out_features=3072, bias=True)\n",
       "        (act): GELU(approximate='none')\n",
       "        (drop1): Dropout(p=0.0, inplace=False)\n",
       "        (norm): Identity()\n",
       "        (fc2): Linear(in_features=3072, out_features=768, bias=True)\n",
       "        (drop2): Dropout(p=0.0, inplace=False)\n",
       "      )\n",
       "      (ls2): Identity()\n",
       "      (drop_path2): Identity()\n",
       "    )\n",
       "    (4): Block(\n",
       "      (norm1): LayerNorm((768,), eps=1e-06, elementwise_affine=True)\n",
       "      (attn): Attention(\n",
       "        (qkv): Linear(in_features=768, out_features=2304, bias=True)\n",
       "        (q_norm): Identity()\n",
       "        (k_norm): Identity()\n",
       "        (attn_drop): Dropout(p=0.0, inplace=False)\n",
       "        (proj): Linear(in_features=768, out_features=768, bias=True)\n",
       "        (proj_drop): Dropout(p=0.0, inplace=False)\n",
       "      )\n",
       "      (ls1): Identity()\n",
       "      (drop_path1): Identity()\n",
       "      (norm2): LayerNorm((768,), eps=1e-06, elementwise_affine=True)\n",
       "      (mlp): Mlp(\n",
       "        (fc1): Linear(in_features=768, out_features=3072, bias=True)\n",
       "        (act): GELU(approximate='none')\n",
       "        (drop1): Dropout(p=0.0, inplace=False)\n",
       "        (norm): Identity()\n",
       "        (fc2): Linear(in_features=3072, out_features=768, bias=True)\n",
       "        (drop2): Dropout(p=0.0, inplace=False)\n",
       "      )\n",
       "      (ls2): Identity()\n",
       "      (drop_path2): Identity()\n",
       "    )\n",
       "    (5): Block(\n",
       "      (norm1): LayerNorm((768,), eps=1e-06, elementwise_affine=True)\n",
       "      (attn): Attention(\n",
       "        (qkv): Linear(in_features=768, out_features=2304, bias=True)\n",
       "        (q_norm): Identity()\n",
       "        (k_norm): Identity()\n",
       "        (attn_drop): Dropout(p=0.0, inplace=False)\n",
       "        (proj): Linear(in_features=768, out_features=768, bias=True)\n",
       "        (proj_drop): Dropout(p=0.0, inplace=False)\n",
       "      )\n",
       "      (ls1): Identity()\n",
       "      (drop_path1): Identity()\n",
       "      (norm2): LayerNorm((768,), eps=1e-06, elementwise_affine=True)\n",
       "      (mlp): Mlp(\n",
       "        (fc1): Linear(in_features=768, out_features=3072, bias=True)\n",
       "        (act): GELU(approximate='none')\n",
       "        (drop1): Dropout(p=0.0, inplace=False)\n",
       "        (norm): Identity()\n",
       "        (fc2): Linear(in_features=3072, out_features=768, bias=True)\n",
       "        (drop2): Dropout(p=0.0, inplace=False)\n",
       "      )\n",
       "      (ls2): Identity()\n",
       "      (drop_path2): Identity()\n",
       "    )\n",
       "    (6): Block(\n",
       "      (norm1): LayerNorm((768,), eps=1e-06, elementwise_affine=True)\n",
       "      (attn): Attention(\n",
       "        (qkv): Linear(in_features=768, out_features=2304, bias=True)\n",
       "        (q_norm): Identity()\n",
       "        (k_norm): Identity()\n",
       "        (attn_drop): Dropout(p=0.0, inplace=False)\n",
       "        (proj): Linear(in_features=768, out_features=768, bias=True)\n",
       "        (proj_drop): Dropout(p=0.0, inplace=False)\n",
       "      )\n",
       "      (ls1): Identity()\n",
       "      (drop_path1): Identity()\n",
       "      (norm2): LayerNorm((768,), eps=1e-06, elementwise_affine=True)\n",
       "      (mlp): Mlp(\n",
       "        (fc1): Linear(in_features=768, out_features=3072, bias=True)\n",
       "        (act): GELU(approximate='none')\n",
       "        (drop1): Dropout(p=0.0, inplace=False)\n",
       "        (norm): Identity()\n",
       "        (fc2): Linear(in_features=3072, out_features=768, bias=True)\n",
       "        (drop2): Dropout(p=0.0, inplace=False)\n",
       "      )\n",
       "      (ls2): Identity()\n",
       "      (drop_path2): Identity()\n",
       "    )\n",
       "    (7): Block(\n",
       "      (norm1): LayerNorm((768,), eps=1e-06, elementwise_affine=True)\n",
       "      (attn): Attention(\n",
       "        (qkv): Linear(in_features=768, out_features=2304, bias=True)\n",
       "        (q_norm): Identity()\n",
       "        (k_norm): Identity()\n",
       "        (attn_drop): Dropout(p=0.0, inplace=False)\n",
       "        (proj): Linear(in_features=768, out_features=768, bias=True)\n",
       "        (proj_drop): Dropout(p=0.0, inplace=False)\n",
       "      )\n",
       "      (ls1): Identity()\n",
       "      (drop_path1): Identity()\n",
       "      (norm2): LayerNorm((768,), eps=1e-06, elementwise_affine=True)\n",
       "      (mlp): Mlp(\n",
       "        (fc1): Linear(in_features=768, out_features=3072, bias=True)\n",
       "        (act): GELU(approximate='none')\n",
       "        (drop1): Dropout(p=0.0, inplace=False)\n",
       "        (norm): Identity()\n",
       "        (fc2): Linear(in_features=3072, out_features=768, bias=True)\n",
       "        (drop2): Dropout(p=0.0, inplace=False)\n",
       "      )\n",
       "      (ls2): Identity()\n",
       "      (drop_path2): Identity()\n",
       "    )\n",
       "    (8): Block(\n",
       "      (norm1): LayerNorm((768,), eps=1e-06, elementwise_affine=True)\n",
       "      (attn): Attention(\n",
       "        (qkv): Linear(in_features=768, out_features=2304, bias=True)\n",
       "        (q_norm): Identity()\n",
       "        (k_norm): Identity()\n",
       "        (attn_drop): Dropout(p=0.0, inplace=False)\n",
       "        (proj): Linear(in_features=768, out_features=768, bias=True)\n",
       "        (proj_drop): Dropout(p=0.0, inplace=False)\n",
       "      )\n",
       "      (ls1): Identity()\n",
       "      (drop_path1): Identity()\n",
       "      (norm2): LayerNorm((768,), eps=1e-06, elementwise_affine=True)\n",
       "      (mlp): Mlp(\n",
       "        (fc1): Linear(in_features=768, out_features=3072, bias=True)\n",
       "        (act): GELU(approximate='none')\n",
       "        (drop1): Dropout(p=0.0, inplace=False)\n",
       "        (norm): Identity()\n",
       "        (fc2): Linear(in_features=3072, out_features=768, bias=True)\n",
       "        (drop2): Dropout(p=0.0, inplace=False)\n",
       "      )\n",
       "      (ls2): Identity()\n",
       "      (drop_path2): Identity()\n",
       "    )\n",
       "    (9): Block(\n",
       "      (norm1): LayerNorm((768,), eps=1e-06, elementwise_affine=True)\n",
       "      (attn): Attention(\n",
       "        (qkv): Linear(in_features=768, out_features=2304, bias=True)\n",
       "        (q_norm): Identity()\n",
       "        (k_norm): Identity()\n",
       "        (attn_drop): Dropout(p=0.0, inplace=False)\n",
       "        (proj): Linear(in_features=768, out_features=768, bias=True)\n",
       "        (proj_drop): Dropout(p=0.0, inplace=False)\n",
       "      )\n",
       "      (ls1): Identity()\n",
       "      (drop_path1): Identity()\n",
       "      (norm2): LayerNorm((768,), eps=1e-06, elementwise_affine=True)\n",
       "      (mlp): Mlp(\n",
       "        (fc1): Linear(in_features=768, out_features=3072, bias=True)\n",
       "        (act): GELU(approximate='none')\n",
       "        (drop1): Dropout(p=0.0, inplace=False)\n",
       "        (norm): Identity()\n",
       "        (fc2): Linear(in_features=3072, out_features=768, bias=True)\n",
       "        (drop2): Dropout(p=0.0, inplace=False)\n",
       "      )\n",
       "      (ls2): Identity()\n",
       "      (drop_path2): Identity()\n",
       "    )\n",
       "    (10): Block(\n",
       "      (norm1): LayerNorm((768,), eps=1e-06, elementwise_affine=True)\n",
       "      (attn): Attention(\n",
       "        (qkv): Linear(in_features=768, out_features=2304, bias=True)\n",
       "        (q_norm): Identity()\n",
       "        (k_norm): Identity()\n",
       "        (attn_drop): Dropout(p=0.0, inplace=False)\n",
       "        (proj): Linear(in_features=768, out_features=768, bias=True)\n",
       "        (proj_drop): Dropout(p=0.0, inplace=False)\n",
       "      )\n",
       "      (ls1): Identity()\n",
       "      (drop_path1): Identity()\n",
       "      (norm2): LayerNorm((768,), eps=1e-06, elementwise_affine=True)\n",
       "      (mlp): Mlp(\n",
       "        (fc1): Linear(in_features=768, out_features=3072, bias=True)\n",
       "        (act): GELU(approximate='none')\n",
       "        (drop1): Dropout(p=0.0, inplace=False)\n",
       "        (norm): Identity()\n",
       "        (fc2): Linear(in_features=3072, out_features=768, bias=True)\n",
       "        (drop2): Dropout(p=0.0, inplace=False)\n",
       "      )\n",
       "      (ls2): Identity()\n",
       "      (drop_path2): Identity()\n",
       "    )\n",
       "    (11): Block(\n",
       "      (norm1): LayerNorm((768,), eps=1e-06, elementwise_affine=True)\n",
       "      (attn): Attention(\n",
       "        (qkv): Linear(in_features=768, out_features=2304, bias=True)\n",
       "        (q_norm): Identity()\n",
       "        (k_norm): Identity()\n",
       "        (attn_drop): Dropout(p=0.0, inplace=False)\n",
       "        (proj): Linear(in_features=768, out_features=768, bias=True)\n",
       "        (proj_drop): Dropout(p=0.0, inplace=False)\n",
       "      )\n",
       "      (ls1): Identity()\n",
       "      (drop_path1): Identity()\n",
       "      (norm2): LayerNorm((768,), eps=1e-06, elementwise_affine=True)\n",
       "      (mlp): Mlp(\n",
       "        (fc1): Linear(in_features=768, out_features=3072, bias=True)\n",
       "        (act): GELU(approximate='none')\n",
       "        (drop1): Dropout(p=0.0, inplace=False)\n",
       "        (norm): Identity()\n",
       "        (fc2): Linear(in_features=3072, out_features=768, bias=True)\n",
       "        (drop2): Dropout(p=0.0, inplace=False)\n",
       "      )\n",
       "      (ls2): Identity()\n",
       "      (drop_path2): Identity()\n",
       "    )\n",
       "  )\n",
       "  (norm): LayerNorm((768,), eps=1e-06, elementwise_affine=True)\n",
       "  (fc_norm): Identity()\n",
       "  (head_drop): Dropout(p=0.0, inplace=False)\n",
       "  (head): Linear(in_features=768, out_features=7, bias=True)\n",
       ")"
      ]
     },
     "execution_count": 5,
     "metadata": {},
     "output_type": "execute_result"
    }
   ],
   "source": [
    "# vit = timm.create_model(\"vit_base_patch16_224\", pretrained=True, num_classes=7).to(device)\n",
    "vit = torch.load(\"vit_models/vit.pt\")\n",
    "vit.eval()"
   ]
  },
  {
   "cell_type": "markdown",
   "metadata": {},
   "source": [
    "### Pruning and Quantization methods"
   ]
  },
  {
   "cell_type": "code",
   "execution_count": 6,
   "metadata": {},
   "outputs": [],
   "source": [
    "# Unstructured Pruning for ViT\n",
    "def unstructured_prune_vit(model, amount=0.3):\n",
    "    for name, module in model.named_modules():\n",
    "        if isinstance(module, nn.Linear):\n",
    "            prune.l1_unstructured(module, name=\"weight\", amount=amount)\n",
    "            prune.remove(module, \"weight\")\n",
    "    return model\n",
    "\n",
    "# Structured Attention Head Pruning for ViT\n",
    "def prune_vit_attention_heads(model, heads_to_prune=2):\n",
    "    for name, module in model.named_modules():\n",
    "        if hasattr(module, 'qkv') and hasattr(module, 'num_heads'):\n",
    "            heads_dim = module.qkv.weight.shape[0] // 3\n",
    "            head_size = heads_dim // module.num_heads\n",
    "            qkv_weights = module.qkv.weight.data.view(3, module.num_heads, head_size, -1)\n",
    "            norms = qkv_weights.norm(dim=(2, 3))\n",
    "            importance = norms.sum(dim=0)\n",
    "            prune_indices = torch.topk(importance, heads_to_prune, largest=False).indices\n",
    "            for i in prune_indices:\n",
    "                qkv_weights[:, i, :, :] = 0\n",
    "            module.qkv.weight.data = qkv_weights.view(-1, module.qkv.weight.shape[1])\n",
    "    return model"
   ]
  },
  {
   "cell_type": "code",
   "execution_count": 7,
   "metadata": {},
   "outputs": [],
   "source": [
    "def fuse_model_blocks(model):\n",
    "    torch.quantization.fuse_modules(model, [[\"conv1\", \"bn1\", \"relu\"]], inplace=True)\n",
    "    for module_name, module in model.named_children():\n",
    "        if \"layer\" in module_name:\n",
    "            for block in module:\n",
    "                torch.quantization.fuse_modules(\n",
    "                    block, [[\"conv1\", \"bn1\", \"relu\"], [\"conv2\", \"bn2\"]],\n",
    "                    inplace=True\n",
    "                )\n",
    "                if hasattr(block, \"downsample\") and isinstance(block.downsample, torch.nn.Sequential):\n",
    "                    if len(block.downsample) >= 2:\n",
    "                        torch.quantization.fuse_modules(block.downsample, [\"0\", \"1\"], inplace=True)"
   ]
  },
  {
   "cell_type": "code",
   "execution_count": 8,
   "metadata": {},
   "outputs": [],
   "source": [
    "import torch\n",
    "import torch.nn as nn\n",
    "from torch.ao.quantization.quantize_fx import prepare_fx, convert_fx\n",
    "from torch.ao.quantization.qconfig_mapping import get_default_qconfig_mapping\n",
    "\n",
    "# --- Custom quantization-safe LayerNorm replacement ---\n",
    "class QuantLayerNorm(nn.Module):\n",
    "    def __init__(self, normalized_shape, eps=1e-5, elementwise_affine=True):\n",
    "        super().__init__()\n",
    "        if isinstance(normalized_shape, int):\n",
    "            normalized_shape = (normalized_shape,)\n",
    "        self.normalized_shape = tuple(normalized_shape)\n",
    "        self.eps = eps\n",
    "        self.elementwise_affine = elementwise_affine\n",
    "        if self.elementwise_affine:\n",
    "            self.weight = nn.Parameter(torch.ones(*self.normalized_shape))\n",
    "            self.bias = nn.Parameter(torch.zeros(*self.normalized_shape))\n",
    "        else:\n",
    "            self.register_parameter('weight', None)\n",
    "            self.register_parameter('bias', None)\n",
    "\n",
    "    def forward(self, x):\n",
    "        mean = x.mean(dim=-1, keepdim=True)\n",
    "        var = x.var(dim=-1, unbiased=False, keepdim=True)\n",
    "        x = (x - mean) / torch.sqrt(var + self.eps)\n",
    "        if self.elementwise_affine:\n",
    "            x = x * self.weight + self.bias\n",
    "        return x\n",
    "\n",
    "# --- Main function to quantize a pruned ViT model ---\n",
    "def quantize_pruned_vit_model(model, calibration_loader, num_batches=10):\n",
    "    import copy\n",
    "\n",
    "    # Clone the model to avoid modifying the original\n",
    "    model = copy.deepcopy(model)\n",
    "    model.eval().cpu()\n",
    "\n",
    "    # Replace incompatible modules (GELU, LayerNorm)\n",
    "    def patch_for_static_quant(model):\n",
    "        replacements = []\n",
    "\n",
    "        for name, module in model.named_modules():\n",
    "            if isinstance(module, nn.GELU):\n",
    "                replacements.append((name, nn.ReLU()))\n",
    "            elif isinstance(module, nn.LayerNorm):\n",
    "                try:\n",
    "                    qln = QuantLayerNorm(module.normalized_shape, eps=module.eps, elementwise_affine=True)\n",
    "                    qln.weight.data = module.weight.data.clone()\n",
    "                    qln.bias.data = module.bias.data.clone()\n",
    "                    replacements.append((name, qln))\n",
    "                except Exception as e:\n",
    "                    print(f\"Skipping {name} due to shape mismatch: {e}\")\n",
    "\n",
    "        # Apply replacements safely after iteration\n",
    "        for name, new_module in replacements:\n",
    "            parent = model\n",
    "            parts = name.split(\".\")\n",
    "            for part in parts[:-1]:\n",
    "                parent = getattr(parent, part)\n",
    "            setattr(parent, parts[-1], new_module)\n",
    "\n",
    "        return model\n",
    "\n",
    "    model = patch_for_static_quant(model)\n",
    "\n",
    "    # Quantization config\n",
    "    qconfig_mapping = get_default_qconfig_mapping(\"fbgemm\")\n",
    "\n",
    "    # Get example input for FX tracing\n",
    "    example_input = next(iter(calibration_loader))[0]\n",
    "\n",
    "    # Prepare for FX static quantization\n",
    "    prepared_model = prepare_fx(model, qconfig_mapping, example_inputs=example_input)\n",
    "\n",
    "    # Calibration loop\n",
    "    with torch.no_grad():\n",
    "        for i, (x, _) in enumerate(calibration_loader):\n",
    "            x = x.to(torch.float32)\n",
    "            prepared_model(x)\n",
    "            if i >= num_batches:\n",
    "                break\n",
    "\n",
    "    # Convert to quantized model\n",
    "    quantized_model = convert_fx(prepared_model)\n",
    "    return quantized_model\n"
   ]
  },
  {
   "cell_type": "code",
   "execution_count": 9,
   "metadata": {},
   "outputs": [],
   "source": [
    "from torch.quantization.quantize_fx import prepare_fx, convert_fx\n",
    "from torch.ao.quantization.qconfig_mapping import get_default_qconfig_mapping\n",
    "\n",
    "\n",
    "def quantize_vit(model, calibration_loader, num_batches=10):\n",
    "    model.eval()\n",
    "    model.cpu()\n",
    "\n",
    "    qconfig_mapping = get_default_qconfig_mapping(\"fbgemm\")\n",
    "    example_input = next(iter(calibration_loader))[0]\n",
    "\n",
    "    # FX Graph Mode Quantization\n",
    "    prepared = prepare_fx(model, qconfig_mapping, example_inputs=example_input)\n",
    "\n",
    "    with torch.no_grad():\n",
    "        for i, (x, _) in enumerate(calibration_loader):\n",
    "            prepared(x.to(torch.float32))\n",
    "            x.to(\"cpu\")\n",
    "            model(x)\n",
    "            if i >= num_batches:\n",
    "                break\n",
    "\n",
    "    quantized_model = convert_fx(prepared)\n",
    "    return quantized_model"
   ]
  },
  {
   "cell_type": "markdown",
   "metadata": {},
   "source": [
    "### Training and Evaluation methods"
   ]
  },
  {
   "cell_type": "code",
   "execution_count": 10,
   "metadata": {},
   "outputs": [],
   "source": [
    "import time\n",
    "\n",
    "def train(model, train_loader, val_loader, epochs=10, lr=1e-4):\n",
    "    model.to(device)\n",
    "    criterion = nn.CrossEntropyLoss()\n",
    "    optimizer = torch.optim.Adam(model.parameters(), lr=lr)\n",
    "    \n",
    "    for epoch in range(epochs):\n",
    "        model.train()\n",
    "        running_loss = 0.0\n",
    "        for x, y in train_loader:\n",
    "            x, y = x.to(device), y.to(device)\n",
    "            optimizer.zero_grad()\n",
    "            outputs = model(x)\n",
    "            loss = criterion(outputs, y)\n",
    "            loss.backward()\n",
    "            optimizer.step()\n",
    "            running_loss += loss.item()\n",
    "\n",
    "        # Validation\n",
    "        model.eval()\n",
    "        val_loss = 0.0\n",
    "        correct, total = 0, 0\n",
    "        with torch.no_grad():\n",
    "            for x, y in val_loader:\n",
    "                x, y = x.to(device), y.to(device)\n",
    "                outputs = model(x)\n",
    "                loss = criterion(outputs, y)\n",
    "                val_loss += loss.item()\n",
    "                correct += (outputs.argmax(1) == y).sum().item()\n",
    "                total += y.size(0)\n",
    "\n",
    "        train_loss = running_loss / len(train_loader)\n",
    "        val_loss /= len(val_loader)\n",
    "        val_acc = 100 * correct / total\n",
    "\n",
    "        print(f\"Epoch {epoch+1}: Train Loss = {train_loss:.4f}, Val Loss = {val_loss:.4f}, Val Acc = {val_acc:.2f}%\")"
   ]
  },
  {
   "cell_type": "code",
   "execution_count": 11,
   "metadata": {},
   "outputs": [],
   "source": [
    "def evaluate(model, test_loader, quantization=False):\n",
    "    model.eval()\n",
    "\n",
    "    if quantization:\n",
    "        model = model.to(\"cpu\")  # Quantized models must be on CPU\n",
    "    else:\n",
    "        model = model.to(\"cuda\")\n",
    "\n",
    "    correct, total = 0, 0\n",
    "    with torch.no_grad():\n",
    "        for x, y in test_loader:\n",
    "            if quantization:\n",
    "                x, y = x.to(\"cpu\"), y.to(\"cpu\")\n",
    "            else:\n",
    "                x, y = x.to(\"cuda\"), y.to(\"cuda\")\n",
    "\n",
    "            outputs = model(x)\n",
    "            pred = outputs.argmax(dim=1)\n",
    "            correct += (pred == y).sum().item()\n",
    "            total += y.size(0)\n",
    "\n",
    "    accuracy = 100 * correct / total\n",
    "    print(f\"Test Accuracy = {accuracy:.2f}%\")\n",
    "    return accuracy"
   ]
  },
  {
   "cell_type": "code",
   "execution_count": 12,
   "metadata": {},
   "outputs": [],
   "source": [
    "def measure_inference_speed(model, test_loader, quantization=False):\n",
    "    model.eval()\n",
    "    \n",
    "    if quantization:\n",
    "        device = \"cpu\"\n",
    "        \n",
    "    else:\n",
    "        device = torch.device(\"cuda\")\n",
    "    \n",
    "    model.to(device)\n",
    "    \n",
    "    start = time.time()\n",
    "    with torch.no_grad():\n",
    "        for x, _ in test_loader:\n",
    "            x = x.to(device)\n",
    "            _ = model(x)\n",
    "    end = time.time()\n",
    "    latency = (end - start) / len(test_loader)\n",
    "    print(f\"Avg Inference Time per Batch: {latency:.4f} sec\")\n",
    "    return latency\n",
    "\n",
    "def model_size_mb(model, use_state_dict=True):\n",
    "    with tempfile.NamedTemporaryFile(delete=False) as f:\n",
    "        if use_state_dict:\n",
    "            torch.save(model.state_dict(), f.name)\n",
    "        else:\n",
    "            torch.save(model, f.name)\n",
    "        size_mb = os.path.getsize(f.name) / (1024 * 1024)\n",
    "    print(f\"Model Size ({'state_dict' if use_state_dict else 'full model'}): {size_mb:.2f} MB\")\n",
    "    return size_mb"
   ]
  },
  {
   "cell_type": "markdown",
   "metadata": {},
   "source": [
    "### Plot methods"
   ]
  },
  {
   "cell_type": "markdown",
   "metadata": {},
   "source": [
    "#### Accuracy v/s Pruning amount"
   ]
  },
  {
   "cell_type": "code",
   "execution_count": 13,
   "metadata": {},
   "outputs": [],
   "source": [
    "import matplotlib.pyplot as plt\n",
    "import seaborn as sns\n",
    "\n",
    "# Set seaborn style for polished look\n",
    "sns.set(style=\"whitegrid\", context=\"notebook\")\n",
    "\n",
    "def plot_validation_and_test_accuracy(pruning_amounts, val_accuracies, test_accuracies, pruning_type='structured'):\n",
    "    \"\"\"\n",
    "    Plots validation and test accuracy vs. pruning amount for a specific pruning type.\n",
    "\n",
    "    Args:\n",
    "        pruning_amounts (list of float): Amounts of pruning applied (e.g., [0.0, 0.3, 0.5]).\n",
    "        val_accuracies (list of float): Validation accuracies in percent.\n",
    "        test_accuracies (list of float): Test accuracies in percent.\n",
    "        pruning_type (str): 'structured' or 'unstructured' (used in plot title and legend).\n",
    "    \"\"\"\n",
    "    plt.figure(figsize=(8, 5))\n",
    "\n",
    "    plt.plot(pruning_amounts, val_accuracies, marker='o', label='Validation Accuracy', color='blue', linewidth=2)\n",
    "    plt.plot(pruning_amounts, test_accuracies, marker='s', label='Test Accuracy', color='green', linewidth=2)\n",
    "\n",
    "    # Annotate values\n",
    "    for x, y in zip(pruning_amounts, val_accuracies):\n",
    "        plt.text(x, y + 0.5, f\"{y:.2f}%\", ha='center', fontsize=9, color='blue')\n",
    "\n",
    "    for x, y in zip(pruning_amounts, test_accuracies):\n",
    "        plt.text(x, y - 1.5, f\"{y:.2f}%\", ha='center', fontsize=9, color='green')\n",
    "\n",
    "    plt.xlabel(\"Pruning Amount\", fontsize=12)\n",
    "    plt.ylabel(\"Accuracy (%)\", fontsize=12)\n",
    "    plt.title(f\"{pruning_type.capitalize()} Pruning: Accuracy vs. Pruning Amount\", fontsize=14)\n",
    "    plt.legend()\n",
    "    plt.grid(True, linestyle='--', alpha=0.6)\n",
    "    plt.xticks(pruning_amounts)\n",
    "    plt.ylim(0, 100)\n",
    "    plt.tight_layout()\n",
    "    plt.show()"
   ]
  },
  {
   "cell_type": "code",
   "execution_count": 14,
   "metadata": {},
   "outputs": [],
   "source": [
    "import matplotlib.pyplot as plt\n",
    "import seaborn as sns\n",
    "\n",
    "sns.set(style=\"whitegrid\", context=\"notebook\")\n",
    "\n",
    "def plot_accuracy_vs_pruning_grouped(pruning_type, pruning_amount, val_accuracies, test_accuracies):\n",
    "    \"\"\"\n",
    "    Plots validation and test accuracy vs. pruning amount for multiple pruning types\n",
    "    (e.g., 'baseline', 'structured', 'unstructured') on the same plot.\n",
    "\n",
    "    Args:\n",
    "        pruning_type (list of str): Type for each model ('baseline', 'structured', etc.)\n",
    "        pruning_amount (list of float): Corresponding pruning amount (e.g., [0.0, 0.3, 0.5])\n",
    "        val_accuracies (list of float): Corresponding validation accuracy in %\n",
    "        test_accuracies (list of float): Corresponding test accuracy in %\n",
    "    \"\"\"\n",
    "    plt.figure(figsize=(9, 5))\n",
    "\n",
    "    unique_types = sorted(set(pruning_type))\n",
    "    for ptype in unique_types:\n",
    "        xs = [amt for t, amt in zip(pruning_type, pruning_amount) if t == ptype]\n",
    "        #val_ys = [v for t, v in zip(pruning_type, val_accuracies) if t == ptype]\n",
    "        test_ys = [v for t, v in zip(pruning_type, test_accuracies) if t == ptype]\n",
    "\n",
    "        #plt.plot(xs, val_ys, marker='o', linestyle='-', linewidth=2, label=f'{ptype} - Val')\n",
    "        plt.plot(xs, test_ys, marker='s', linestyle='-', linewidth=2, label=f'{ptype}')\n",
    "\n",
    "        # Annotate points\n",
    "        #for x, y in zip(xs, val_ys):\n",
    "        #    plt.text(x, y + 0.5, f\"{y:.1f}%\", ha='center', fontsize=9)\n",
    "        \n",
    "        for x, y in zip(xs, test_ys):\n",
    "            plt.text(x, y - 1.2, f\"{y:.1f}%\", ha='center', fontsize=9)\n",
    "\n",
    "    plt.xlabel(\"Pruning Amount\", fontsize=12)\n",
    "    plt.ylabel(\"Accuracy (%)\", fontsize=12)\n",
    "    plt.title(\"Validation & Test Accuracy vs. Pruning\", fontsize=14)\n",
    "    plt.legend(title=\"Model Type\")\n",
    "    plt.xticks(sorted(set(pruning_amount)))\n",
    "    plt.ylim(50, 100)\n",
    "    plt.tight_layout()\n",
    "    plt.show()"
   ]
  },
  {
   "cell_type": "markdown",
   "metadata": {},
   "source": [
    "#### Flops after pruning"
   ]
  },
  {
   "cell_type": "code",
   "execution_count": 15,
   "metadata": {},
   "outputs": [],
   "source": [
    "from ptflops import get_model_complexity_info\n",
    "\n",
    "# FLOPs calculation helper\n",
    "def get_flops(model, input_res=(3, 224, 224)):\n",
    "    model.eval()\n",
    "    macs, params = get_model_complexity_info(model, input_res, as_strings=False,\n",
    "                                              print_per_layer_stat=False, verbose=False)\n",
    "    flops = 2 * macs  # Approximate FLOPs: 1 MAC = 2 FLOPs\n",
    "    return flops / 1e9  # Convert to GFLOPs"
   ]
  },
  {
   "cell_type": "code",
   "execution_count": 16,
   "metadata": {},
   "outputs": [],
   "source": [
    "# Count total and non-zero parameters (Conv + Linear)\n",
    "def compute_sparsity(model):\n",
    "    total_weights = 0\n",
    "    nonzero_weights = 0\n",
    "\n",
    "    for module in model.modules():\n",
    "        if isinstance(module, (nn.Conv2d, nn.Linear)):\n",
    "            if hasattr(module, 'weight'):\n",
    "                total_weights += module.weight.nelement()\n",
    "                nonzero_weights += torch.count_nonzero(module.weight)\n",
    "\n",
    "    sparsity = 1 - (nonzero_weights / total_weights)\n",
    "    return sparsity.item()"
   ]
  },
  {
   "cell_type": "code",
   "execution_count": 42,
   "metadata": {},
   "outputs": [],
   "source": [
    "from ptflops import get_model_complexity_info\n",
    "\n",
    "# FLOPs calculation helper\n",
    "def get_flops(model, input_res=(3, 224, 224)):\n",
    "    model.eval()\n",
    "    macs, params = get_model_complexity_info(model, input_res, as_strings=False,\n",
    "                                              print_per_layer_stat=False, verbose=False)\n",
    "    flops = 2 * macs  # Approximate FLOPs: 1 MAC = 2 FLOPs\n",
    "    return flops / 1e9  # Convert to GFLOPs\n",
    "\n",
    "# Estimate FLOPs reduction due to head pruning\n",
    "def estimate_flops_after_head_pruning(flops_before, model, heads_to_prune_per_layer=2, num_layers=12, original_num_heads=12):\n",
    "    # Assume attention accounts for ~50% of ViT FLOPs (based on ViT papers)\n",
    "    attention_flops = 0.5 * flops_before\n",
    "\n",
    "    # Estimate how many total heads were pruned\n",
    "    heads_pruned_total = heads_to_prune_per_layer * num_layers\n",
    "    heads_total = original_num_heads * num_layers\n",
    "\n",
    "    # Reduction in FLOPs is proportional to pruned heads in attention\n",
    "    effective_attention_flops = attention_flops * (1 - heads_pruned_total / heads_total)\n",
    "\n",
    "    # Remaining FLOPs = non-attention + reduced attention\n",
    "    flops_after = (flops_before - attention_flops) + effective_attention_flops\n",
    "    return flops_after"
   ]
  },
  {
   "cell_type": "code",
   "execution_count": 17,
   "metadata": {},
   "outputs": [],
   "source": [
    "def plot_flops_after_pruning(labels, flops_values):\n",
    "    plt.figure(figsize=(7, 4))\n",
    "    bars = plt.bar(labels, flops_values, color=['steelblue', 'green', 'orange'])\n",
    "    plt.title('Estimated Effective FLOPs After Pruning')\n",
    "    plt.ylabel('FLOPs (GigaFLOPs)')\n",
    "    plt.ylim(0, max(flops_values) * 1.2)\n",
    "\n",
    "    for bar in bars:\n",
    "        height = bar.get_height()\n",
    "        plt.text(bar.get_x() + bar.get_width()/2, height * 1.01, f'{height:.2f}', ha='center')\n",
    "\n",
    "    plt.grid(axis='y', linestyle='--', alpha=0.6)\n",
    "    plt.tight_layout()\n",
    "    plt.show()"
   ]
  },
  {
   "cell_type": "markdown",
   "metadata": {},
   "source": [
    "#### Inference time accross pruning models"
   ]
  },
  {
   "cell_type": "code",
   "execution_count": 18,
   "metadata": {},
   "outputs": [],
   "source": [
    "def plot_inference_vs_pruning(pruning_type, pruning_amount, inference_times):\n",
    "    plt.figure(figsize=(8, 5))\n",
    "    for ptype in set(pruning_type):\n",
    "        xs = [amt for t, amt in zip(pruning_type, pruning_amount) if t == ptype]\n",
    "        ys = [t for t_, t in zip(pruning_type, inference_times) if t_ == ptype]\n",
    "        plt.plot(xs, ys, marker='o', label=ptype, linewidth=2)\n",
    "\n",
    "        for x, y in zip(xs, ys):\n",
    "            plt.text(x, y + 0.001, f\"{y:.4f}s\", ha='center', fontsize=9)\n",
    "\n",
    "    plt.xlabel(\"Pruning Amount\", fontsize=12)\n",
    "    plt.ylabel(\"Inference Time (s/batch)\", fontsize=12)\n",
    "    plt.title(\"Inference Time vs. Pruning\", fontsize=14)\n",
    "    plt.legend(title=\"Model Type\")\n",
    "    plt.xticks([0.0, 0.5])\n",
    "    plt.tight_layout()\n",
    "    plt.show()"
   ]
  },
  {
   "cell_type": "markdown",
   "metadata": {},
   "source": [
    "#### Accuracy v/s Preciison level"
   ]
  },
  {
   "cell_type": "code",
   "execution_count": 19,
   "metadata": {},
   "outputs": [],
   "source": [
    "def plot_accuracy_vs_precision(precisions, accuracies):\n",
    "    \"\"\"\n",
    "    Plot model accuracy vs. precision level.\n",
    "    \n",
    "    Args:\n",
    "        precisions (List[str]): Precision levels (e.g., ['FP32', 'INT8'])\n",
    "        accuracies (List[float]): Corresponding accuracies (%)\n",
    "    \"\"\"\n",
    "    plt.figure(figsize=(15, 4))\n",
    "    plt.plot(precisions, accuracies, marker='o', linewidth=2)\n",
    "    plt.title(\"Accuracy vs. Precision Level\")\n",
    "    plt.xlabel(\"Precision\")\n",
    "    plt.ylabel(\"Accuracy (%)\")\n",
    "    for i, acc in enumerate(accuracies):\n",
    "        plt.text(i, acc + 0.5, f\"{acc:.2f}%\", ha='center')\n",
    "    plt.grid(True, linestyle='--', alpha=0.6)\n",
    "    plt.tight_layout()\n",
    "    plt.show()"
   ]
  },
  {
   "cell_type": "markdown",
   "metadata": {},
   "source": [
    "#### Inference time accross quantized models"
   ]
  },
  {
   "cell_type": "code",
   "execution_count": 20,
   "metadata": {},
   "outputs": [],
   "source": [
    "import matplotlib.pyplot as plt\n",
    "\n",
    "def plot_inference_time(models, times_ms):\n",
    "    \"\"\"\n",
    "    Plot inference time for different models.\n",
    "    \n",
    "    Args:\n",
    "        models (List[str]): Model labels (e.g., ['FP32', 'INT8', 'INT8+Pruned'])\n",
    "        times_ms (List[float]): Inference times in milliseconds\n",
    "    \"\"\"\n",
    "    plt.figure(figsize=(15, 4))\n",
    "    plt.plot(models, times_ms, marker='o', linestyle='-', linewidth=2, color='red')\n",
    "    plt.title(\"Inference Time Across Models\")\n",
    "    plt.xlabel(\"Model Type\")\n",
    "    plt.ylabel(\"Time (ms)\")\n",
    "    for i, t in enumerate(times_ms):\n",
    "        plt.text(i, t + 0.1, f\"{t:.1f} ms\", ha='center')\n",
    "    plt.grid(True, linestyle='--', alpha=0.6)\n",
    "    plt.tight_layout()\n",
    "    plt.show()"
   ]
  },
  {
   "cell_type": "markdown",
   "metadata": {},
   "source": [
    "#### Weight Distribution"
   ]
  },
  {
   "cell_type": "code",
   "execution_count": 21,
   "metadata": {},
   "outputs": [],
   "source": [
    "import numpy as np\n",
    "\n",
    "def extract_quantized_weights(model):\n",
    "    \"\"\"\n",
    "    Extract quantized weights (int8) from a quantized model using _packed_params.\n",
    "    Returns a list of flattened numpy arrays.\n",
    "    \"\"\"\n",
    "    weights = []\n",
    "    for module in model.modules():\n",
    "        if isinstance(module, (torch.nn.quantized.Conv2d, torch.nn.quantized.Linear)):\n",
    "            try:\n",
    "                qweight, _ = module._packed_params._weight_bias()\n",
    "                weights.append(qweight.dequantize().cpu().flatten().numpy())\n",
    "            except Exception as e:\n",
    "                #print(f\"Skipping {module}: {e}\")\n",
    "                pass\n",
    "    return np.concatenate(weights) if weights else None\n",
    "\n",
    "def plot_quantized_weight_distribution(model_fp32, model_int8, model_int8_pr_st, model_int8_pr_unst):\n",
    "    import matplotlib.pyplot as plt\n",
    "    import numpy as np\n",
    "\n",
    "    def extract_weights(model):\n",
    "        weights = []\n",
    "        for module in model.modules():\n",
    "            if hasattr(module, \"weight\") and isinstance(module.weight, torch.Tensor):\n",
    "                weights.append(module.weight.detach().cpu().flatten().numpy())\n",
    "        return np.concatenate(weights) if weights else None\n",
    "\n",
    "    w_fp32 = extract_weights(model_fp32)\n",
    "    w_int8 = extract_quantized_weights(model_int8)\n",
    "    w_int8_st = extract_quantized_weights(model_int8_pr_st)\n",
    "    w_int8_unst = extract_quantized_weights(model_int8_pr_unst)\n",
    "\n",
    "    if w_fp32 is None and w_int8 is None and w_int8_unst and w_int8_st:\n",
    "        print(\"No weights found.\")\n",
    "        return\n",
    "\n",
    "    plt.figure(figsize=(10, 4))\n",
    "    if w_fp32 is not None:\n",
    "        plt.subplot(1, 2, 1)\n",
    "        plt.hist(w_fp32, bins=100, color='blue', alpha=0.7)\n",
    "        plt.title(\"Weight Distribution (FP32)\")\n",
    "        plt.xlabel(\"Weight Value\")\n",
    "        plt.ylabel(\"Frequency\")\n",
    "\n",
    "    if w_int8 is not None:\n",
    "        plt.subplot(1, 2, 2)\n",
    "        plt.hist(w_int8, bins=100, color='orange', alpha=0.7)\n",
    "        plt.title(\"Weight Distribution (INT8)\")\n",
    "        plt.xlabel(\"Weight Value\")\n",
    "        \n",
    "    plt.figure(figsize=(10, 6))\n",
    "    if w_int8_st is not None:\n",
    "        plt.subplot(2, 2, 1)\n",
    "        plt.hist(w_int8_st, bins=100, color='green', alpha=0.7)\n",
    "        plt.title(\"Weight Distribution (INT8 + Structured pruning)\")\n",
    "        plt.xlabel(\"Weight Value\")\n",
    "        plt.ylabel(\"Frequency\")\n",
    "        \n",
    "    if w_int8_unst is not None:\n",
    "        plt.subplot(2, 2, 2)\n",
    "        plt.hist(w_int8_unst, bins=100, color='red', alpha=0.7)\n",
    "        plt.title(\"Weight Distribution (INT8 + Unstructured pruning)\")\n",
    "        plt.xlabel(\"Weight Value\")\n",
    "\n",
    "    plt.tight_layout()\n",
    "    plt.show()"
   ]
  },
  {
   "cell_type": "markdown",
   "metadata": {},
   "source": [
    "### Training"
   ]
  },
  {
   "cell_type": "markdown",
   "metadata": {},
   "source": [
    "#### Training Baseline model"
   ]
  },
  {
   "cell_type": "code",
   "execution_count": null,
   "metadata": {},
   "outputs": [
    {
     "name": "stdout",
     "output_type": "stream",
     "text": [
      "=== Train baseline ===\n",
      "Epoch 1: Train Loss = 1.5956, Val Loss = 1.1874, Val Acc = 54.80%\n",
      "Epoch 2: Train Loss = 1.0636, Val Loss = 1.0366, Val Acc = 60.37%\n",
      "Epoch 3: Train Loss = 0.8631, Val Loss = 1.0351, Val Acc = 61.07%\n",
      "Epoch 4: Train Loss = 0.6970, Val Loss = 1.0352, Val Acc = 62.88%\n",
      "Epoch 5: Train Loss = 0.5187, Val Loss = 1.0678, Val Acc = 63.63%\n",
      "Epoch 6: Train Loss = 0.3621, Val Loss = 1.2919, Val Acc = 64.08%\n",
      "Epoch 7: Train Loss = 0.2450, Val Loss = 1.4523, Val Acc = 63.04%\n",
      "Epoch 8: Train Loss = 0.1798, Val Loss = 1.5992, Val Acc = 64.14%\n",
      "Epoch 9: Train Loss = 0.1359, Val Loss = 1.6117, Val Acc = 63.47%\n",
      "Epoch 10: Train Loss = 0.1145, Val Loss = 1.9165, Val Acc = 64.15%\n",
      "Epoch 11: Train Loss = 0.1179, Val Loss = 1.8556, Val Acc = 63.06%\n",
      "Epoch 12: Train Loss = 0.0888, Val Loss = 1.7791, Val Acc = 63.09%\n",
      "Epoch 13: Train Loss = 0.0824, Val Loss = 1.8246, Val Acc = 63.09%\n",
      "Epoch 14: Train Loss = 0.0903, Val Loss = 1.9207, Val Acc = 64.26%\n",
      "Epoch 15: Train Loss = 0.0836, Val Loss = 1.8620, Val Acc = 64.78%\n",
      "Epoch 16: Train Loss = 0.0602, Val Loss = 2.1149, Val Acc = 64.26%\n",
      "Epoch 17: Train Loss = 0.0717, Val Loss = 2.1461, Val Acc = 64.41%\n",
      "Epoch 18: Train Loss = 0.0807, Val Loss = 1.9655, Val Acc = 63.37%\n",
      "Epoch 19: Train Loss = 0.0731, Val Loss = 1.8966, Val Acc = 63.40%\n",
      "Epoch 20: Train Loss = 0.0598, Val Loss = 2.0189, Val Acc = 63.87%\n",
      "Epoch 21: Train Loss = 0.0630, Val Loss = 2.1514, Val Acc = 63.11%\n",
      "Epoch 22: Train Loss = 0.0658, Val Loss = 2.1142, Val Acc = 62.83%\n",
      "Epoch 23: Train Loss = 0.0662, Val Loss = 1.9084, Val Acc = 63.79%\n",
      "Epoch 24: Train Loss = 0.0517, Val Loss = 2.1013, Val Acc = 63.42%\n",
      "Epoch 25: Train Loss = 0.0498, Val Loss = 2.0070, Val Acc = 64.29%\n",
      "Epoch 26: Train Loss = 0.0565, Val Loss = 2.0109, Val Acc = 63.73%\n",
      "Epoch 27: Train Loss = 0.0588, Val Loss = 1.7371, Val Acc = 64.33%\n",
      "Epoch 28: Train Loss = 0.0561, Val Loss = 1.9671, Val Acc = 64.15%\n",
      "Epoch 29: Train Loss = 0.0526, Val Loss = 1.9906, Val Acc = 64.68%\n",
      "Epoch 30: Train Loss = 0.0547, Val Loss = 1.9851, Val Acc = 63.21%\n",
      "Test Accuracy = 63.90%\n",
      "Model Size (state_dict): 327.37 MB\n",
      "Avg Inference Time per Batch: 0.8171 sec\n"
     ]
    },
    {
     "ename": "RuntimeError",
     "evalue": "Parent directory vit_models does not exist.",
     "output_type": "error",
     "traceback": [
      "\u001b[0;31m---------------------------------------------------------------------------\u001b[0m",
      "\u001b[0;31mRuntimeError\u001b[0m                              Traceback (most recent call last)",
      "Cell \u001b[0;32mIn[24], line 7\u001b[0m\n\u001b[1;32m      5\u001b[0m model_size_mb(vit)\n\u001b[1;32m      6\u001b[0m measure_inference_speed(vit, test_loader)\n\u001b[0;32m----> 7\u001b[0m \u001b[43mtorch\u001b[49m\u001b[38;5;241;43m.\u001b[39;49m\u001b[43msave\u001b[49m\u001b[43m(\u001b[49m\u001b[43mvit\u001b[49m\u001b[43m,\u001b[49m\u001b[43m \u001b[49m\u001b[38;5;124;43m'\u001b[39;49m\u001b[38;5;124;43mvit_models/vit.pt\u001b[39;49m\u001b[38;5;124;43m'\u001b[39;49m\u001b[43m)\u001b[49m\n",
      "File \u001b[0;32m~/.local/lib/python3.10/site-packages/torch/serialization.py:943\u001b[0m, in \u001b[0;36msave\u001b[0;34m(obj, f, pickle_module, pickle_protocol, _use_new_zipfile_serialization, _disable_byteorder_record)\u001b[0m\n\u001b[1;32m    940\u001b[0m _check_save_filelike(f)\n\u001b[1;32m    942\u001b[0m \u001b[38;5;28;01mif\u001b[39;00m _use_new_zipfile_serialization:\n\u001b[0;32m--> 943\u001b[0m     \u001b[38;5;28;01mwith\u001b[39;00m \u001b[43m_open_zipfile_writer\u001b[49m\u001b[43m(\u001b[49m\u001b[43mf\u001b[49m\u001b[43m)\u001b[49m \u001b[38;5;28;01mas\u001b[39;00m opened_zipfile:\n\u001b[1;32m    944\u001b[0m         _save(\n\u001b[1;32m    945\u001b[0m             obj,\n\u001b[1;32m    946\u001b[0m             opened_zipfile,\n\u001b[0;32m   (...)\u001b[0m\n\u001b[1;32m    949\u001b[0m             _disable_byteorder_record,\n\u001b[1;32m    950\u001b[0m         )\n\u001b[1;32m    951\u001b[0m         \u001b[38;5;28;01mreturn\u001b[39;00m\n",
      "File \u001b[0;32m~/.local/lib/python3.10/site-packages/torch/serialization.py:810\u001b[0m, in \u001b[0;36m_open_zipfile_writer\u001b[0;34m(name_or_buffer)\u001b[0m\n\u001b[1;32m    808\u001b[0m \u001b[38;5;28;01melse\u001b[39;00m:\n\u001b[1;32m    809\u001b[0m     container \u001b[38;5;241m=\u001b[39m _open_zipfile_writer_buffer\n\u001b[0;32m--> 810\u001b[0m \u001b[38;5;28;01mreturn\u001b[39;00m \u001b[43mcontainer\u001b[49m\u001b[43m(\u001b[49m\u001b[43mname_or_buffer\u001b[49m\u001b[43m)\u001b[49m\n",
      "File \u001b[0;32m~/.local/lib/python3.10/site-packages/torch/serialization.py:781\u001b[0m, in \u001b[0;36m_open_zipfile_writer_file.__init__\u001b[0;34m(self, name)\u001b[0m\n\u001b[1;32m    777\u001b[0m     \u001b[38;5;28msuper\u001b[39m()\u001b[38;5;241m.\u001b[39m\u001b[38;5;21m__init__\u001b[39m(\n\u001b[1;32m    778\u001b[0m         torch\u001b[38;5;241m.\u001b[39m_C\u001b[38;5;241m.\u001b[39mPyTorchFileWriter(\u001b[38;5;28mself\u001b[39m\u001b[38;5;241m.\u001b[39mfile_stream, _compute_crc32)\n\u001b[1;32m    779\u001b[0m     )\n\u001b[1;32m    780\u001b[0m \u001b[38;5;28;01melse\u001b[39;00m:\n\u001b[0;32m--> 781\u001b[0m     \u001b[38;5;28msuper\u001b[39m()\u001b[38;5;241m.\u001b[39m\u001b[38;5;21m__init__\u001b[39m(\u001b[43mtorch\u001b[49m\u001b[38;5;241;43m.\u001b[39;49m\u001b[43m_C\u001b[49m\u001b[38;5;241;43m.\u001b[39;49m\u001b[43mPyTorchFileWriter\u001b[49m\u001b[43m(\u001b[49m\u001b[38;5;28;43mself\u001b[39;49m\u001b[38;5;241;43m.\u001b[39;49m\u001b[43mname\u001b[49m\u001b[43m,\u001b[49m\u001b[43m \u001b[49m\u001b[43m_compute_crc32\u001b[49m\u001b[43m)\u001b[49m)\n",
      "\u001b[0;31mRuntimeError\u001b[0m: Parent directory vit_models does not exist."
     ]
    }
   ],
   "source": [
    "# === Train baseline ===\n",
    "print(\"=== Train baseline ===\")\n",
    "train(vit, train_loader, val_loader, epochs=30)\n",
    "evaluate(vit, test_loader)\n",
    "model_size_mb(vit)\n",
    "measure_inference_speed(vit, test_loader)\n"
   ]
  },
  {
   "cell_type": "markdown",
   "metadata": {},
   "source": [
    "#### Pruning baseline model + Training (Structured)"
   ]
  },
  {
   "cell_type": "code",
   "execution_count": 25,
   "metadata": {},
   "outputs": [],
   "source": [
    "torch.save(vit, 'vit_models/vit.pt')"
   ]
  },
  {
   "cell_type": "code",
   "execution_count": 22,
   "metadata": {},
   "outputs": [
    {
     "name": "stdout",
     "output_type": "stream",
     "text": [
      "=== Apply structured pruning, then fine-tune ===\n",
      "Epoch 1: Train Loss = 0.3576, Val Loss = 0.3154, Val Acc = 91.40%\n",
      "Epoch 2: Train Loss = 0.1980, Val Loss = 0.3202, Val Acc = 91.33%\n",
      "Epoch 3: Train Loss = 0.0945, Val Loss = 0.3778, Val Acc = 91.03%\n",
      "Epoch 4: Train Loss = 0.0305, Val Loss = 0.4570, Val Acc = 91.03%\n",
      "Epoch 5: Train Loss = 0.0101, Val Loss = 0.5297, Val Acc = 91.29%\n",
      "Test Accuracy = 62.98%\n",
      "Model Size (state_dict): 327.37 MB\n",
      "Avg Inference Time per Batch: 0.2118 sec\n",
      "=== Apply structured pruning, then fine-tune ===\n",
      "Epoch 1: Train Loss = 0.0552, Val Loss = 0.5760, Val Acc = 89.72%\n",
      "Epoch 2: Train Loss = 0.0074, Val Loss = 0.7179, Val Acc = 89.84%\n",
      "Epoch 3: Train Loss = 0.0059, Val Loss = 0.7623, Val Acc = 89.79%\n",
      "Epoch 4: Train Loss = 0.0044, Val Loss = 0.8073, Val Acc = 89.78%\n",
      "Epoch 5: Train Loss = 0.0048, Val Loss = 0.8002, Val Acc = 89.93%\n",
      "Test Accuracy = 62.58%\n",
      "Model Size (state_dict): 327.37 MB\n",
      "Avg Inference Time per Batch: 0.2142 sec\n",
      "=== Apply structured pruning, then fine-tune ===\n",
      "Epoch 1: Train Loss = 0.3117, Val Loss = 0.5203, Val Acc = 84.76%\n",
      "Epoch 2: Train Loss = 0.0686, Val Loss = 0.7745, Val Acc = 84.95%\n",
      "Epoch 3: Train Loss = 0.0089, Val Loss = 1.0994, Val Acc = 85.18%\n",
      "Epoch 4: Train Loss = 0.0051, Val Loss = 1.1337, Val Acc = 84.99%\n",
      "Epoch 5: Train Loss = 0.0039, Val Loss = 1.1724, Val Acc = 85.26%\n",
      "Test Accuracy = 60.85%\n",
      "Model Size (state_dict): 327.37 MB\n",
      "Avg Inference Time per Batch: 0.2143 sec\n",
      "=== Apply structured pruning, then fine-tune ===\n",
      "Epoch 1: Train Loss = 0.2682, Val Loss = 0.7280, Val Acc = 81.85%\n",
      "Epoch 2: Train Loss = 0.0375, Val Loss = 1.3123, Val Acc = 81.38%\n",
      "Epoch 3: Train Loss = 0.0071, Val Loss = 1.5148, Val Acc = 81.75%\n",
      "Epoch 4: Train Loss = 0.0040, Val Loss = 1.5706, Val Acc = 81.52%\n",
      "Epoch 5: Train Loss = 0.0045, Val Loss = 1.6032, Val Acc = 81.83%\n",
      "Test Accuracy = 59.47%\n",
      "Model Size (state_dict): 327.37 MB\n",
      "Avg Inference Time per Batch: 0.2141 sec\n",
      "=== Apply structured pruning, then fine-tune ===\n",
      "Epoch 1: Train Loss = 0.5129, Val Loss = 0.8259, Val Acc = 75.79%\n",
      "Epoch 2: Train Loss = 0.1755, Val Loss = 1.0683, Val Acc = 75.86%\n",
      "Epoch 3: Train Loss = 0.0254, Val Loss = 1.7427, Val Acc = 76.01%\n",
      "Epoch 4: Train Loss = 0.0068, Val Loss = 1.9234, Val Acc = 76.08%\n",
      "Epoch 5: Train Loss = 0.0053, Val Loss = 1.9496, Val Acc = 76.29%\n",
      "Test Accuracy = 57.77%\n",
      "Model Size (state_dict): 327.37 MB\n",
      "Avg Inference Time per Batch: 0.2136 sec\n"
     ]
    },
    {
     "data": {
      "text/plain": [
       "0.21361889459390557"
      ]
     },
     "execution_count": 22,
     "metadata": {},
     "output_type": "execute_result"
    }
   ],
   "source": [
    "# === Apply structured pruning, then fine-tune ===\n",
    "print(\"=== Apply structured pruning, then fine-tune ===\")\n",
    "vit_pruned_st_01 = prune_vit_attention_heads(vit, heads_to_prune=1)\n",
    "train(vit_pruned_st_01, train_loader, val_loader, epochs=5, lr=1e-5)\n",
    "evaluate(vit_pruned_st_01, test_loader)\n",
    "model_size_mb(vit_pruned_st_01)\n",
    "measure_inference_speed(vit_pruned_st_01, test_loader)\n",
    "\n",
    "# === Apply structured pruning, then fine-tune ===\n",
    "print(\"=== Apply structured pruning, then fine-tune ===\")\n",
    "vit_pruned_st_02 = prune_vit_attention_heads(vit, heads_to_prune=2)\n",
    "train(vit_pruned_st_02, train_loader, val_loader, epochs=5, lr=1e-5)\n",
    "evaluate(vit_pruned_st_02, test_loader)\n",
    "model_size_mb(vit_pruned_st_02)\n",
    "measure_inference_speed(vit_pruned_st_02, test_loader)\n",
    "\n",
    "# === Apply structured pruning, then fine-tune ===\n",
    "print(\"=== Apply structured pruning, then fine-tune ===\")\n",
    "vit_pruned_st_03 = prune_vit_attention_heads(vit, heads_to_prune=3)\n",
    "train(vit_pruned_st_03, train_loader, val_loader, epochs=5, lr=1e-5)\n",
    "evaluate(vit_pruned_st_03, test_loader)\n",
    "model_size_mb(vit_pruned_st_03)\n",
    "measure_inference_speed(vit_pruned_st_03, test_loader)\n",
    "\n",
    "# === Apply structured pruning, then fine-tune ===\n",
    "print(\"=== Apply structured pruning, then fine-tune ===\")\n",
    "vit_pruned_st_04 = prune_vit_attention_heads(vit, heads_to_prune=4)\n",
    "train(vit_pruned_st_04, train_loader, val_loader, epochs=5, lr=1e-5)\n",
    "evaluate(vit_pruned_st_04, test_loader)\n",
    "model_size_mb(vit_pruned_st_04)\n",
    "measure_inference_speed(vit_pruned_st_04, test_loader)\n",
    "\n",
    "# === Apply structured pruning, then fine-tune ===\n",
    "print(\"=== Apply structured pruning, then fine-tune ===\")\n",
    "vit_pruned_st_05 = prune_vit_attention_heads(vit, heads_to_prune=5)\n",
    "train(vit_pruned_st_05, train_loader, val_loader, epochs=5, lr=1e-5)\n",
    "evaluate(vit_pruned_st_05, test_loader)\n",
    "model_size_mb(vit_pruned_st_05)\n",
    "measure_inference_speed(vit_pruned_st_05, test_loader)"
   ]
  },
  {
   "cell_type": "code",
   "execution_count": 23,
   "metadata": {},
   "outputs": [],
   "source": [
    "torch.save(vit_pruned_st_01, 'vit_pruned_st/vit_pruned_st_01.pt')\n",
    "torch.save(vit_pruned_st_02, 'vit_pruned_st/vit_pruned_st_02.pt')\n",
    "torch.save(vit_pruned_st_03, 'vit_pruned_st/vit_pruned_st_03.pt')\n",
    "torch.save(vit_pruned_st_04, 'vit_pruned_st/vit_pruned_st_04.pt')\n",
    "torch.save(vit_pruned_st_05, 'vit_pruned_st/vit_pruned_st_05.pt')"
   ]
  },
  {
   "cell_type": "code",
   "execution_count": 25,
   "metadata": {},
   "outputs": [
    {
     "name": "stdout",
     "output_type": "stream",
     "text": [
      "Test Accuracy = 57.77%\n",
      "Test Accuracy = 57.77%\n",
      "Test Accuracy = 57.77%\n",
      "Test Accuracy = 57.77%\n",
      "Test Accuracy = 57.77%\n"
     ]
    }
   ],
   "source": [
    "val_accuracies_st = []\n",
    "\"\"\"val_acc = evaluate(resnet18_pruned_st_01, val_loader, quantization=False)\n",
    "val_accuracies_st.append(val_acc)\n",
    "val_acc = evaluate(resnet18_pruned_st_02, val_loader, quantization=False)\n",
    "val_accuracies_st.append(val_acc)\n",
    "val_acc = evaluate(resnet18_pruned_st_03, val_loader, quantization=False)\n",
    "val_accuracies_st.append(val_acc)\n",
    "val_acc = evaluate(resnet18_pruned_st_04, val_loader, quantization=False)\n",
    "val_accuracies_st.append(val_acc)\n",
    "val_acc = evaluate(resnet18_pruned_st_05, val_loader, quantization=False)\n",
    "val_accuracies_st.append(val_acc)\"\"\"\n",
    "\n",
    "test_accuracies_st = []\n",
    "test_acc = evaluate(vit_pruned_st_01, test_loader, quantization=False)\n",
    "test_accuracies_st.append(test_acc)\n",
    "test_acc = evaluate(vit_pruned_st_02, test_loader, quantization=False)\n",
    "test_accuracies_st.append(test_acc)\n",
    "test_acc = evaluate(vit_pruned_st_03, test_loader, quantization=False)\n",
    "test_accuracies_st.append(test_acc)\n",
    "test_acc = evaluate(vit_pruned_st_04, test_loader, quantization=False)\n",
    "test_accuracies_st.append(test_acc)\n",
    "test_acc = evaluate(vit_pruned_st_05, test_loader, quantization=False)\n",
    "test_accuracies_st.append(test_acc)"
   ]
  },
  {
   "cell_type": "code",
   "execution_count": 26,
   "metadata": {},
   "outputs": [
    {
     "name": "stdout",
     "output_type": "stream",
     "text": [
      "Avg Inference Time per Batch: 0.2150 sec\n",
      "Avg Inference Time per Batch: 0.2148 sec\n",
      "Avg Inference Time per Batch: 0.2156 sec\n",
      "Avg Inference Time per Batch: 0.2145 sec\n",
      "Avg Inference Time per Batch: 0.2159 sec\n"
     ]
    }
   ],
   "source": [
    "inf_speed = []\n",
    "inf_speed_01 = measure_inference_speed(vit_pruned_st_01, test_loader, quantization=False)\n",
    "inf_speed.append(inf_speed_01)\n",
    "inf_speed_02 = measure_inference_speed(vit_pruned_st_02, test_loader, quantization=False)\n",
    "inf_speed.append(inf_speed_02)\n",
    "inf_speed_03 = measure_inference_speed(vit_pruned_st_03, test_loader, quantization=False)\n",
    "inf_speed.append(inf_speed_03)\n",
    "inf_speed_04 = measure_inference_speed(vit_pruned_st_04, test_loader, quantization=False)\n",
    "inf_speed.append(inf_speed_04)\n",
    "inf_speed_05 = measure_inference_speed(vit_pruned_st_05, test_loader, quantization=False)\n",
    "inf_speed.append(inf_speed_05)"
   ]
  },
  {
   "cell_type": "markdown",
   "metadata": {},
   "source": [
    "#### Pruning baseline model + Training (Unstructured)"
   ]
  },
  {
   "cell_type": "code",
   "execution_count": 27,
   "metadata": {},
   "outputs": [
    {
     "name": "stdout",
     "output_type": "stream",
     "text": [
      "=== Apply structured pruning, then fine-tune ===\n",
      "Epoch 1: Train Loss = 0.0214, Val Loss = 2.0196, Val Acc = 76.08%\n",
      "Epoch 2: Train Loss = 0.0125, Val Loss = 2.0913, Val Acc = 76.19%\n",
      "Epoch 3: Train Loss = 0.0065, Val Loss = 2.1339, Val Acc = 76.21%\n",
      "Epoch 4: Train Loss = 0.0041, Val Loss = 2.1565, Val Acc = 76.14%\n",
      "Epoch 5: Train Loss = 0.0035, Val Loss = 2.1690, Val Acc = 76.14%\n",
      "Test Accuracy = 57.97%\n",
      "Model Size (state_dict): 327.37 MB\n",
      "Avg Inference Time per Batch: 0.2141 sec\n",
      "=== Apply structured pruning, then fine-tune ===\n",
      "Epoch 1: Train Loss = 0.0164, Val Loss = 2.1704, Val Acc = 75.93%\n",
      "Epoch 2: Train Loss = 0.0121, Val Loss = 2.1347, Val Acc = 75.86%\n",
      "Epoch 3: Train Loss = 0.0084, Val Loss = 2.1270, Val Acc = 76.83%\n",
      "Epoch 4: Train Loss = 0.0090, Val Loss = 2.1510, Val Acc = 76.48%\n",
      "Epoch 5: Train Loss = 0.0090, Val Loss = 2.1559, Val Acc = 76.96%\n",
      "Test Accuracy = 57.55%\n",
      "Model Size (state_dict): 327.37 MB\n",
      "Avg Inference Time per Batch: 0.2137 sec\n",
      "=== Apply structured pruning, then fine-tune ===\n",
      "Epoch 1: Train Loss = 0.0137, Val Loss = 2.1278, Val Acc = 76.42%\n",
      "Epoch 2: Train Loss = 0.0101, Val Loss = 2.2131, Val Acc = 76.17%\n",
      "Epoch 3: Train Loss = 0.0123, Val Loss = 2.1000, Val Acc = 76.68%\n",
      "Epoch 4: Train Loss = 0.0100, Val Loss = 2.1386, Val Acc = 77.22%\n",
      "Epoch 5: Train Loss = 0.0066, Val Loss = 2.1503, Val Acc = 76.82%\n",
      "Test Accuracy = 58.36%\n",
      "Model Size (state_dict): 327.37 MB\n",
      "Avg Inference Time per Batch: 0.2140 sec\n",
      "=== Apply structured pruning, then fine-tune ===\n",
      "Epoch 1: Train Loss = 0.0175, Val Loss = 1.9873, Val Acc = 76.55%\n",
      "Epoch 2: Train Loss = 0.0084, Val Loss = 2.0412, Val Acc = 76.31%\n",
      "Epoch 3: Train Loss = 0.0073, Val Loss = 2.0562, Val Acc = 76.75%\n",
      "Epoch 4: Train Loss = 0.0096, Val Loss = 2.0740, Val Acc = 76.78%\n",
      "Epoch 5: Train Loss = 0.0137, Val Loss = 2.0500, Val Acc = 76.42%\n",
      "Test Accuracy = 58.29%\n",
      "Model Size (state_dict): 327.37 MB\n",
      "Avg Inference Time per Batch: 0.2122 sec\n",
      "=== Apply structured pruning, then fine-tune ===\n",
      "Epoch 1: Train Loss = 0.0301, Val Loss = 1.7238, Val Acc = 76.57%\n",
      "Epoch 2: Train Loss = 0.0073, Val Loss = 1.9248, Val Acc = 76.90%\n",
      "Epoch 3: Train Loss = 0.0036, Val Loss = 1.9663, Val Acc = 77.15%\n",
      "Epoch 4: Train Loss = 0.0031, Val Loss = 1.9814, Val Acc = 77.20%\n",
      "Epoch 5: Train Loss = 0.0031, Val Loss = 1.9808, Val Acc = 77.30%\n",
      "Test Accuracy = 58.71%\n",
      "Model Size (state_dict): 327.37 MB\n",
      "Avg Inference Time per Batch: 0.2124 sec\n"
     ]
    },
    {
     "data": {
      "text/plain": [
       "0.21244794921537416"
      ]
     },
     "execution_count": 27,
     "metadata": {},
     "output_type": "execute_result"
    }
   ],
   "source": [
    "# === Apply structured pruning, then fine-tune ===\n",
    "print(\"=== Apply structured pruning, then fine-tune ===\")\n",
    "vit_pruned_unst_01 = unstructured_prune_vit(vit, amount=0.1)\n",
    "train(vit_pruned_unst_01, train_loader, val_loader, epochs=5, lr=1e-5)\n",
    "evaluate(vit_pruned_unst_01, test_loader)\n",
    "model_size_mb(vit_pruned_unst_01)\n",
    "measure_inference_speed(vit_pruned_unst_01, test_loader)\n",
    "\n",
    "# === Apply structured pruning, then fine-tune ===\n",
    "print(\"=== Apply structured pruning, then fine-tune ===\")\n",
    "vit_pruned_unst_02 = unstructured_prune_vit(vit, amount=0.2)\n",
    "train(vit_pruned_unst_02, train_loader, val_loader, epochs=5, lr=1e-5)\n",
    "evaluate(vit_pruned_unst_02, test_loader)\n",
    "model_size_mb(vit_pruned_unst_02)\n",
    "measure_inference_speed(vit_pruned_unst_02, test_loader)\n",
    "\n",
    "# === Apply structured pruning, then fine-tune ===\n",
    "print(\"=== Apply structured pruning, then fine-tune ===\")\n",
    "vit_pruned_unst_03 = unstructured_prune_vit(vit, amount=0.3)\n",
    "train(vit_pruned_unst_03, train_loader, val_loader, epochs=5, lr=1e-5)\n",
    "evaluate(vit_pruned_unst_03, test_loader)\n",
    "model_size_mb(vit_pruned_unst_03)\n",
    "measure_inference_speed(vit_pruned_unst_03, test_loader)\n",
    "\n",
    "# === Apply structured pruning, then fine-tune ===\n",
    "print(\"=== Apply structured pruning, then fine-tune ===\")\n",
    "vit_pruned_unst_04 = unstructured_prune_vit(vit, amount=0.4)\n",
    "train(vit_pruned_unst_04, train_loader, val_loader, epochs=5, lr=1e-5)\n",
    "evaluate(vit_pruned_unst_04, test_loader)\n",
    "model_size_mb(vit_pruned_unst_04)\n",
    "measure_inference_speed(vit_pruned_unst_04, test_loader)\n",
    "\n",
    "# === Apply structured pruning, then fine-tune ===\n",
    "print(\"=== Apply structured pruning, then fine-tune ===\")\n",
    "vit_pruned_unst_05 = unstructured_prune_vit(vit, amount=0.5)\n",
    "train(vit_pruned_unst_05, train_loader, val_loader, epochs=5, lr=1e-5)\n",
    "evaluate(vit_pruned_unst_05, test_loader)\n",
    "model_size_mb(vit_pruned_unst_05)\n",
    "measure_inference_speed(vit_pruned_unst_05, test_loader)"
   ]
  },
  {
   "cell_type": "code",
   "execution_count": null,
   "metadata": {},
   "outputs": [],
   "source": [
    "torch.save(vit_pruned_unst_01, 'vit_pruned_unst/vit_pruned_unst_01.pt')\n",
    "torch.save(vit_pruned_unst_02, 'vit_pruned_unst/vit_pruned_unst_02.pt')\n",
    "torch.save(vit_pruned_unst_03, 'vit_pruned_unst/vit_pruned_unst_03.pt')\n",
    "torch.save(vit_pruned_unst_04, 'vit_pruned_unst/vit_pruned_unst_04.pt')\n",
    "torch.save(vit_pruned_unst_05, 'vit_pruned_unst/vit_pruned_unst_05.pt')"
   ]
  },
  {
   "cell_type": "code",
   "execution_count": 29,
   "metadata": {},
   "outputs": [
    {
     "name": "stdout",
     "output_type": "stream",
     "text": [
      "Test Accuracy = 58.71%\n",
      "Test Accuracy = 58.71%\n",
      "Test Accuracy = 58.71%\n",
      "Test Accuracy = 58.71%\n",
      "Test Accuracy = 58.71%\n"
     ]
    }
   ],
   "source": [
    "val_accuracies_unst = []\n",
    "\"\"\"val_acc = evaluate(resnet18_pruned_unst_01, val_loader, quantization=False)\n",
    "val_accuracies_unst.append(val_acc)\n",
    "val_acc = evaluate(resnet18_pruned_unst_02, val_loader, quantization=False)\n",
    "val_accuracies_unst.append(val_acc)\n",
    "val_acc = evaluate(resnet18_pruned_unst_03, val_loader, quantization=False)\n",
    "val_accuracies_unst.append(val_acc)\n",
    "val_acc = evaluate(resnet18_pruned_unst_04, val_loader, quantization=False)\n",
    "val_accuracies_unst.append(val_acc)\n",
    "val_acc = evaluate(resnet18_pruned_unst_05, val_loader, quantization=False)\n",
    "val_accuracies_unst.append(val_acc)\"\"\"\n",
    "\n",
    "test_accuracies_unst = []\n",
    "test_acc = evaluate(vit_pruned_unst_01, test_loader, quantization=False)\n",
    "test_accuracies_unst.append(test_acc)\n",
    "test_acc = evaluate(vit_pruned_unst_02, test_loader, quantization=False)\n",
    "test_accuracies_unst.append(test_acc)\n",
    "test_acc = evaluate(vit_pruned_unst_03, test_loader, quantization=False)\n",
    "test_accuracies_unst.append(test_acc)\n",
    "test_acc = evaluate(vit_pruned_unst_04, test_loader, quantization=False)\n",
    "test_accuracies_unst.append(test_acc)\n",
    "test_acc = evaluate(vit_pruned_unst_05, test_loader, quantization=False)\n",
    "test_accuracies_unst.append(test_acc)"
   ]
  },
  {
   "cell_type": "code",
   "execution_count": 30,
   "metadata": {},
   "outputs": [
    {
     "name": "stdout",
     "output_type": "stream",
     "text": [
      "Test Accuracy = 58.71%\n",
      "Avg Inference Time per Batch: 0.2151 sec\n"
     ]
    }
   ],
   "source": [
    "baseline_accuracy = evaluate(vit, test_loader)\n",
    "baseline_inf_speed = measure_inference_speed(vit, test_loader)"
   ]
  },
  {
   "cell_type": "code",
   "execution_count": 31,
   "metadata": {},
   "outputs": [],
   "source": [
    "vit_pruned_st_01 = torch.load('vit_pruned_st/vit_pruned_st_01.pt', weights_only=False)\n",
    "vit_pruned_st_02 = torch.load('vit_pruned_st/vit_pruned_st_02.pt', weights_only=False)\n",
    "vit_pruned_st_03 = torch.load('vit_pruned_st/vit_pruned_st_03.pt', weights_only=False)\n",
    "vit_pruned_st_04 = torch.load('vit_pruned_st/vit_pruned_st_04.pt', weights_only=False)\n",
    "vit_pruned_unst_01 = torch.load('vit_pruned_unst/vit_pruned_unst_01.pt', weights_only=False)\n",
    "vit_pruned_unst_02 = torch.load('vit_pruned_unst/vit_pruned_unst_02.pt', weights_only=False)\n",
    "vit_pruned_unst_03 = torch.load('vit_pruned_unst/vit_pruned_unst_03.pt', weights_only=False)\n",
    "vit_pruned_unst_04 = torch.load('vit_pruned_unst/vit_pruned_unst_04.pt', weights_only=False)"
   ]
  },
  {
   "cell_type": "markdown",
   "metadata": {},
   "source": [
    "#### Plots related to Pruning"
   ]
  },
  {
   "cell_type": "code",
   "execution_count": 32,
   "metadata": {},
   "outputs": [
    {
     "data": {
      "image/png": "[encoded data removed]",
      "text/plain": [
       "<Figure size 900x500 with 1 Axes>"
      ]
     },
     "metadata": {},
     "output_type": "display_data"
    },
    {
     "name": "stdout",
     "output_type": "stream",
     "text": [
      "Baseline Accuracy: 58.70716076901644\n"
     ]
    }
   ],
   "source": [
    "pruning_amounts = [0.1, 0.2, 0.3, 0.4, 0.5, 0.1, 0.2, 0.3, 0.4, 0.5]\n",
    "pruning_type = ['structured', 'structured', 'structured', 'structured', 'structured', 'unstructured', 'unstructured', 'unstructured', 'unstructured', 'unstructured']\n",
    "plot_accuracy_vs_pruning_grouped(pruning_type, pruning_amounts, val_accuracies_st + val_accuracies_unst, test_accuracies_st + test_accuracies_unst)\n",
    "print(f\"Baseline Accuracy: {baseline_accuracy}\")"
   ]
  },
  {
   "cell_type": "code",
   "execution_count": 33,
   "metadata": {},
   "outputs": [
    {
     "name": "stdout",
     "output_type": "stream",
     "text": [
      "Avg Inference Time per Batch: 0.2099 sec\n",
      "Avg Inference Time per Batch: 0.2101 sec\n",
      "Avg Inference Time per Batch: 0.2123 sec\n",
      "Avg Inference Time per Batch: 0.2136 sec\n",
      "Avg Inference Time per Batch: 0.2141 sec\n"
     ]
    }
   ],
   "source": [
    "inf_speed_un = []\n",
    "inf_speed_01 = measure_inference_speed(vit_pruned_unst_01, test_loader, quantization=False)\n",
    "inf_speed_un.append(inf_speed_01)\n",
    "inf_speed_02 = measure_inference_speed(vit_pruned_unst_02, test_loader, quantization=False)\n",
    "inf_speed_un.append(inf_speed_02)\n",
    "inf_speed_03 = measure_inference_speed(vit_pruned_unst_03, test_loader, quantization=False)\n",
    "inf_speed_un.append(inf_speed_03)\n",
    "inf_speed_04 = measure_inference_speed(vit_pruned_unst_04, test_loader, quantization=False)\n",
    "inf_speed_un.append(inf_speed_04)\n",
    "inf_speed_05 = measure_inference_speed(vit_pruned_unst_05, test_loader, quantization=False)\n",
    "inf_speed_un.append(inf_speed_05)"
   ]
  },
  {
   "cell_type": "code",
   "execution_count": 34,
   "metadata": {},
   "outputs": [
    {
     "data": {
      "image/png": "[encoded data removed]",
      "text/plain": [
       "<Figure size 800x500 with 1 Axes>"
      ]
     },
     "metadata": {},
     "output_type": "display_data"
    }
   ],
   "source": [
    "pruning_type = ['structured', 'structured', 'structured', 'structured', 'structured', 'unstructured', 'unstructured', 'unstructured', 'unstructured', 'unstructured']\n",
    "plot_inference_vs_pruning(pruning_type, pruning_amounts, inf_speed + inf_speed_un)"
   ]
  },
  {
   "cell_type": "code",
   "execution_count": 43,
   "metadata": {},
   "outputs": [
    {
     "name": "stdout",
     "output_type": "stream",
     "text": [
      "FLOPs before pruning: 24.04 GFLOPs\n",
      "Structured Head Pruning: effective FLOPs = 19.03 GFLOPs\n",
      "Unstructured Head Pruning: effective FLOPs = 19.03 GFLOPs\n"
     ]
    }
   ],
   "source": [
    "# Before pruning\n",
    "flops_before = get_flops(vit)\n",
    "\n",
    "# Estimate FLOPs after pruning (ViT-B/16 has 12 layers, 12 heads)\n",
    "flops_after_structured = estimate_flops_after_head_pruning(flops_before, vit_pruned_st_05,\n",
    "                                                heads_to_prune_per_layer=5,\n",
    "                                                num_layers=12,\n",
    "                                                original_num_heads=12)\n",
    "\n",
    "flops_after_unstructured = estimate_flops_after_head_pruning(flops_before, vit_pruned_unst_05,\n",
    "                                                heads_to_prune_per_layer=5,\n",
    "                                                num_layers=12,\n",
    "                                                original_num_heads=12)\n",
    "\n",
    "print(f\"FLOPs before pruning: {flops_before:.2f} GFLOPs\")\n",
    "print(f\"Structured Head Pruning: effective FLOPs = {flops_after_structured:.2f} GFLOPs\")\n",
    "print(f\"Unstructured Head Pruning: effective FLOPs = {flops_after_unstructured:.2f} GFLOPs\")"
   ]
  },
  {
   "cell_type": "code",
   "execution_count": 44,
   "metadata": {},
   "outputs": [
    {
     "data": {
      "image/png": "[encoded data removed]",
      "text/plain": [
       "<Figure size 700x400 with 1 Axes>"
      ]
     },
     "metadata": {},
     "output_type": "display_data"
    }
   ],
   "source": [
    "labels = ['Before Pruning', 'Structured', 'Unstructured']\n",
    "flops_values = [flops_before, flops_after_structured, flops_after_unstructured]\n",
    "\n",
    "plot_flops_after_pruning(labels, flops_values)"
   ]
  },
  {
   "cell_type": "markdown",
   "metadata": {},
   "source": [
    "#### Quantization"
   ]
  },
  {
   "cell_type": "code",
   "execution_count": 37,
   "metadata": {},
   "outputs": [],
   "source": [
    "vit = torch.load('vit_models/vit.pt', weights_only=False)\n",
    "vit_pruned_unst_05 = torch.load('vit_pruned_unst/vit_pruned_unst_05.pt', weights_only=False)\n",
    "vit_pruned_st_05 = torch.load('vit_pruned_st/vit_pruned_st_05.pt', weights_only=False)"
   ]
  },
  {
   "cell_type": "code",
   "execution_count": 38,
   "metadata": {},
   "outputs": [
    {
     "name": "stdout",
     "output_type": "stream",
     "text": [
      "=== Apply quantization on baseline (no pruning) ===\n"
     ]
    },
    {
     "name": "stderr",
     "output_type": "stream",
     "text": [
      "c:\\Users\\oargell.lab\\AppData\\Local\\Programs\\Python\\Python312\\Lib\\site-packages\\torch\\ao\\quantization\\observer.py:229: UserWarning: Please use quant_min and quant_max to specify the range for observers.                     reduce_range will be deprecated in a future release of PyTorch.\n",
      "  warnings.warn(\n"
     ]
    },
    {
     "name": "stdout",
     "output_type": "stream",
     "text": [
      "Test Accuracy = 62.52%\n",
      "Model Size (state_dict): 84.06 MB\n",
      "Avg Inference Time per Batch: 1.8773 sec\n",
      "=== Apply quantization on pruned model ===\n"
     ]
    },
    {
     "name": "stderr",
     "output_type": "stream",
     "text": [
      "c:\\Users\\oargell.lab\\AppData\\Local\\Programs\\Python\\Python312\\Lib\\site-packages\\torch\\ao\\quantization\\observer.py:229: UserWarning: Please use quant_min and quant_max to specify the range for observers.                     reduce_range will be deprecated in a future release of PyTorch.\n",
      "  warnings.warn(\n",
      "<eval_with_key>.11:34: UserWarning: All inputs of this cat operator must share the same quantization parameters. Otherwise large numerical inaccuracies may occur. (Triggered internally at C:\\actions-runner\\_work\\pytorch\\pytorch\\builder\\windows\\pytorch\\aten\\src\\ATen\\native\\quantized\\cpu\\TensorShape.cpp:168.)\n",
      "  cat = torch.cat([quantize_per_tensor_6, patch_embed_norm], dim = 1);  quantize_per_tensor_6 = patch_embed_norm = None\n"
     ]
    },
    {
     "name": "stdout",
     "output_type": "stream",
     "text": [
      "Test Accuracy = 17.46%\n",
      "Model Size (state_dict): 84.12 MB\n",
      "Avg Inference Time per Batch: 2.1968 sec\n",
      "=== Apply quantization on pruned model ===\n"
     ]
    },
    {
     "name": "stderr",
     "output_type": "stream",
     "text": [
      "c:\\Users\\oargell.lab\\AppData\\Local\\Programs\\Python\\Python312\\Lib\\site-packages\\torch\\ao\\quantization\\observer.py:229: UserWarning: Please use quant_min and quant_max to specify the range for observers.                     reduce_range will be deprecated in a future release of PyTorch.\n",
      "  warnings.warn(\n",
      "<eval_with_key>.17:34: UserWarning: All inputs of this cat operator must share the same quantization parameters. Otherwise large numerical inaccuracies may occur. (Triggered internally at C:\\actions-runner\\_work\\pytorch\\pytorch\\builder\\windows\\pytorch\\aten\\src\\ATen\\native\\quantized\\cpu\\TensorShape.cpp:168.)\n",
      "  cat = torch.cat([quantize_per_tensor_6, patch_embed_norm], dim = 1);  quantize_per_tensor_6 = patch_embed_norm = None\n"
     ]
    },
    {
     "name": "stdout",
     "output_type": "stream",
     "text": [
      "Test Accuracy = 17.80%\n",
      "Model Size (state_dict): 84.12 MB\n",
      "Avg Inference Time per Batch: 2.0697 sec\n"
     ]
    },
    {
     "data": {
      "text/plain": [
       "2.0696531164962635"
      ]
     },
     "execution_count": 38,
     "metadata": {},
     "output_type": "execute_result"
    }
   ],
   "source": [
    "# === Apply quantization on baseline (no pruning) ===\n",
    "print(\"=== Apply quantization on baseline (no pruning) ===\")\n",
    "vit_quant = quantize_vit(vit, train_loader)\n",
    "evaluate(vit_quant, test_loader, quantization=True)\n",
    "model_size_mb(vit_quant)\n",
    "measure_inference_speed(vit_quant, test_loader, quantization=True)\n",
    "\n",
    "# === Apply quantization on pruned model ===\n",
    "print(\"=== Apply quantization on pruned model ===\")\n",
    "vit_quant_pr_st = quantize_pruned_vit_model(vit_pruned_st_05, train_loader)\n",
    "evaluate(vit_quant_pr_st, test_loader, quantization=True)\n",
    "model_size_mb(vit_quant_pr_st)\n",
    "measure_inference_speed(vit_quant_pr_st, test_loader, quantization=True)\n",
    "\n",
    "print(\"=== Apply quantization on pruned model ===\")\n",
    "vit_quant_pr_unst = quantize_pruned_vit_model(vit_pruned_unst_05, train_loader)\n",
    "evaluate(vit_quant_pr_unst, test_loader, quantization=True)\n",
    "model_size_mb(vit_quant_pr_unst)\n",
    "measure_inference_speed(vit_quant_pr_unst, test_loader, quantization=True)"
   ]
  },
  {
   "cell_type": "code",
   "execution_count": 39,
   "metadata": {},
   "outputs": [],
   "source": [
    "torch.save(vit_quant, 'vit_quantization/vit_quant.pt')\n",
    "torch.save(vit_quant_pr_st, 'vit_quantization/vit_quant_pr_st.pt')\n",
    "torch.save(vit_quant_pr_unst, 'vit_quantization/vit_quant_pr_unst.pt')"
   ]
  },
  {
   "cell_type": "code",
   "execution_count": 40,
   "metadata": {},
   "outputs": [
    {
     "name": "stdout",
     "output_type": "stream",
     "text": [
      "Test Accuracy = 63.90%\n",
      "Test Accuracy = 62.52%\n"
     ]
    },
    {
     "name": "stderr",
     "output_type": "stream",
     "text": [
      "<eval_with_key>.21:34: UserWarning: All inputs of this cat operator must share the same quantization parameters. Otherwise large numerical inaccuracies may occur. (Triggered internally at C:\\actions-runner\\_work\\pytorch\\pytorch\\builder\\windows\\pytorch\\aten\\src\\ATen\\native\\quantized\\cpu\\TensorShape.cpp:168.)\n",
      "  cat = torch.cat([quantize_per_tensor_6, patch_embed_norm], dim = 1);  quantize_per_tensor_6 = patch_embed_norm = None\n"
     ]
    },
    {
     "name": "stdout",
     "output_type": "stream",
     "text": [
      "Test Accuracy = 17.46%\n"
     ]
    },
    {
     "name": "stderr",
     "output_type": "stream",
     "text": [
      "<eval_with_key>.23:34: UserWarning: All inputs of this cat operator must share the same quantization parameters. Otherwise large numerical inaccuracies may occur. (Triggered internally at C:\\actions-runner\\_work\\pytorch\\pytorch\\builder\\windows\\pytorch\\aten\\src\\ATen\\native\\quantized\\cpu\\TensorShape.cpp:168.)\n",
      "  cat = torch.cat([quantize_per_tensor_6, patch_embed_norm], dim = 1);  quantize_per_tensor_6 = patch_embed_norm = None\n"
     ]
    },
    {
     "name": "stdout",
     "output_type": "stream",
     "text": [
      "Test Accuracy = 17.80%\n"
     ]
    }
   ],
   "source": [
    "accuracies = []\n",
    "accuracy_baseline = evaluate(vit, test_loader, quantization=True)\n",
    "accuracy_quant = evaluate(vit_quant, test_loader, quantization=True)\n",
    "accuracy_quant_pr_st = evaluate(vit_quant_pr_st, test_loader, quantization=True)\n",
    "accuracy_quant_pr_unst = evaluate(vit_quant_pr_unst, test_loader, quantization=True)\n",
    "accuracies.append(accuracy_baseline)\n",
    "accuracies.append(accuracy_quant)\n",
    "accuracies.append(accuracy_quant_pr_st)\n",
    "accuracies.append(accuracy_quant_pr_unst)"
   ]
  },
  {
   "cell_type": "code",
   "execution_count": 41,
   "metadata": {},
   "outputs": [
    {
     "name": "stdout",
     "output_type": "stream",
     "text": [
      "Avg Inference Time per Batch: 3.0223 sec\n",
      "Avg Inference Time per Batch: 1.8482 sec\n",
      "Avg Inference Time per Batch: 2.0691 sec\n",
      "Avg Inference Time per Batch: 2.1120 sec\n"
     ]
    }
   ],
   "source": [
    "inf_speeds_quantization = []\n",
    "inf_speed_baseline = measure_inference_speed(vit, test_loader, quantization=True)\n",
    "inf_speed_quant = measure_inference_speed(vit_quant, test_loader, quantization=True)\n",
    "inf_speed_quant_pr_st = measure_inference_speed(vit_quant_pr_st, test_loader, quantization=True)\n",
    "inf_speed_quant_pr_unst = measure_inference_speed(vit_quant_pr_unst, test_loader, quantization=True)\n",
    "inf_speeds_quantization.append(inf_speed_baseline)\n",
    "inf_speeds_quantization.append(inf_speed_quant)\n",
    "inf_speeds_quantization.append(inf_speed_quant_pr_st)\n",
    "inf_speeds_quantization.append(inf_speed_quant_pr_unst)"
   ]
  },
  {
   "cell_type": "markdown",
   "metadata": {},
   "source": [
    "#### Plots related to Quantization"
   ]
  },
  {
   "cell_type": "code",
   "execution_count": 46,
   "metadata": {},
   "outputs": [
    {
     "data": {
      "image/png": "[encoded data removed]",
      "text/plain": [
       "<Figure size 1500x400 with 1 Axes>"
      ]
     },
     "metadata": {},
     "output_type": "display_data"
    }
   ],
   "source": [
    "precisions = ['VIT (Baseline)', 'VIT (Int8)', 'VIT (Int8 + Structurd Prune)', 'VIT (Int8 + Unstructured Prune)']\n",
    "plot_accuracy_vs_precision(precisions, accuracies)"
   ]
  },
  {
   "cell_type": "code",
   "execution_count": 47,
   "metadata": {},
   "outputs": [
    {
     "data": {
      "image/png": "[encoded data removed]",
      "text/plain": [
       "<Figure size 1500x400 with 1 Axes>"
      ]
     },
     "metadata": {},
     "output_type": "display_data"
    }
   ],
   "source": [
    "plot_inference_time(precisions, inf_speeds_quantization)"
   ]
  },
  {
   "cell_type": "code",
   "execution_count": 48,
   "metadata": {},
   "outputs": [
    {
     "data": {
      "image/png": "[encoded data removed]",
      "text/plain": [
       "<Figure size 1000x400 with 2 Axes>"
      ]
     },
     "metadata": {},
     "output_type": "display_data"
    },
    {
     "data": {
      "image/png": "[encoded data removed]",
      "text/plain": [
       "<Figure size 1000x600 with 2 Axes>"
      ]
     },
     "metadata": {},
     "output_type": "display_data"
    }
   ],
   "source": [
    "plot_quantized_weight_distribution(vit, vit_quant, vit_quant_pr_st, vit_quant_pr_unst)"
   ]
  },
  {
   "cell_type": "code",
   "execution_count": null,
   "metadata": {},
   "outputs": [],
   "source": []
  }
 ],
 "metadata": {
  "kernelspec": {
   "display_name": "Python 3",
   "language": "python",
   "name": "python3"
  },
  "language_info": {
   "codemirror_mode": {
    "name": "ipython",
    "version": 3
   },
   "file_extension": ".py",
   "mimetype": "text/x-python",
   "name": "python",
   "nbconvert_exporter": "python",
   "pygments_lexer": "ipython3",
   "version": "3.12.3"
  }
 },
 "nbformat": 4,
 "nbformat_minor": 2
}
